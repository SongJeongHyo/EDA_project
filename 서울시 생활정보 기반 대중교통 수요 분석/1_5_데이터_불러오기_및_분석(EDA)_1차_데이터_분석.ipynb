{
 "cells": [
  {
   "cell_type": "markdown",
   "id": "boxed-jamaica",
   "metadata": {
    "id": "boxed-jamaica"
   },
   "source": [
    "# 안녕하세요:)\n",
    "\n",
    "## '서울시 생활정보 기반 대중교통 수요 분석 ' 과정에 오신 여러분을 환영합니다.\n",
    "* 본 과정에서는 서울시 생활정보 데이터를 기반으로 데이터 분석을 시도하고 주어진 문제를 해결할 것입니다.\n",
    "\n",
    "\n",
    "* 우리는 공공 데이터를 활용해 버스노선 관련 인사이트를 도출하여 유용한 정책을 세우는데 도움을 주고자 합니다"
   ]
  },
  {
   "cell_type": "markdown",
   "id": "46fa690c",
   "metadata": {
    "id": "46fa690c"
   },
   "source": [
    "## ▣ 우리가 풀어야 하는 문제는 무엇인가요?\n",
    "\n",
    "* 제공 데이터\n",
    "    - 구 별 유동인구 데이터\n",
    "    - 구 별 주민 등록 데이터\n",
    "    - 구 별 업종 등록 정보\n",
    "    - 버스 승하차 및 운행 노선 데이터 \n",
    "\n",
    "### 위 제공 데이터를 분석하여 버스 노선 추가 필요 대상 지역(구 단위)을 선정합니다"
   ]
  },
  {
   "cell_type": "markdown",
   "id": "22a4bba9",
   "metadata": {
    "id": "22a4bba9"
   },
   "source": [
    "# 이 4개의 데이터들을 어떻게 합칠까요?"
   ]
  },
  {
   "cell_type": "code",
   "execution_count": 1,
   "id": "ce78669f",
   "metadata": {
    "id": "ce78669f"
   },
   "outputs": [],
   "source": [
    "import pandas as pd"
   ]
  },
  {
   "cell_type": "code",
   "execution_count": 2,
   "id": "d91f797e",
   "metadata": {
    "id": "d91f797e"
   },
   "outputs": [],
   "source": [
    "standard = pd.DataFrame({'도착 시군구 코드': [11010, 11020, 11030, 11040, 11050, 11060, 11070, 11080, 11090, 11100, 11110, 11120, 11130, 11140, 11150, 11160, 11170, 11180, 11190, 11200, 11210, 11220, 11230, 11240, 11250],\n",
    "                         '자치구' :['종로구','중구','용산구','성동구','광진구','동대문구','중랑구','성북구','강북구','도봉구','노원구','은평구','서대문구','마포구','양천구','강서구','구로구','금천구','영등포구','동작구','관악구','서초구','강남구','송파구','강동구']})"
   ]
  },
  {
   "cell_type": "code",
   "execution_count": 3,
   "id": "823d3b41",
   "metadata": {
    "id": "823d3b41"
   },
   "outputs": [
    {
     "data": {
      "text/html": [
       "<div>\n",
       "<style scoped>\n",
       "    .dataframe tbody tr th:only-of-type {\n",
       "        vertical-align: middle;\n",
       "    }\n",
       "\n",
       "    .dataframe tbody tr th {\n",
       "        vertical-align: top;\n",
       "    }\n",
       "\n",
       "    .dataframe thead th {\n",
       "        text-align: right;\n",
       "    }\n",
       "</style>\n",
       "<table border=\"1\" class=\"dataframe\">\n",
       "  <thead>\n",
       "    <tr style=\"text-align: right;\">\n",
       "      <th></th>\n",
       "      <th>도착 시군구 코드</th>\n",
       "      <th>자치구</th>\n",
       "    </tr>\n",
       "  </thead>\n",
       "  <tbody>\n",
       "    <tr>\n",
       "      <th>0</th>\n",
       "      <td>11010</td>\n",
       "      <td>종로구</td>\n",
       "    </tr>\n",
       "    <tr>\n",
       "      <th>1</th>\n",
       "      <td>11020</td>\n",
       "      <td>중구</td>\n",
       "    </tr>\n",
       "    <tr>\n",
       "      <th>2</th>\n",
       "      <td>11030</td>\n",
       "      <td>용산구</td>\n",
       "    </tr>\n",
       "    <tr>\n",
       "      <th>3</th>\n",
       "      <td>11040</td>\n",
       "      <td>성동구</td>\n",
       "    </tr>\n",
       "    <tr>\n",
       "      <th>4</th>\n",
       "      <td>11050</td>\n",
       "      <td>광진구</td>\n",
       "    </tr>\n",
       "    <tr>\n",
       "      <th>5</th>\n",
       "      <td>11060</td>\n",
       "      <td>동대문구</td>\n",
       "    </tr>\n",
       "    <tr>\n",
       "      <th>6</th>\n",
       "      <td>11070</td>\n",
       "      <td>중랑구</td>\n",
       "    </tr>\n",
       "    <tr>\n",
       "      <th>7</th>\n",
       "      <td>11080</td>\n",
       "      <td>성북구</td>\n",
       "    </tr>\n",
       "    <tr>\n",
       "      <th>8</th>\n",
       "      <td>11090</td>\n",
       "      <td>강북구</td>\n",
       "    </tr>\n",
       "    <tr>\n",
       "      <th>9</th>\n",
       "      <td>11100</td>\n",
       "      <td>도봉구</td>\n",
       "    </tr>\n",
       "    <tr>\n",
       "      <th>10</th>\n",
       "      <td>11110</td>\n",
       "      <td>노원구</td>\n",
       "    </tr>\n",
       "    <tr>\n",
       "      <th>11</th>\n",
       "      <td>11120</td>\n",
       "      <td>은평구</td>\n",
       "    </tr>\n",
       "    <tr>\n",
       "      <th>12</th>\n",
       "      <td>11130</td>\n",
       "      <td>서대문구</td>\n",
       "    </tr>\n",
       "    <tr>\n",
       "      <th>13</th>\n",
       "      <td>11140</td>\n",
       "      <td>마포구</td>\n",
       "    </tr>\n",
       "    <tr>\n",
       "      <th>14</th>\n",
       "      <td>11150</td>\n",
       "      <td>양천구</td>\n",
       "    </tr>\n",
       "    <tr>\n",
       "      <th>15</th>\n",
       "      <td>11160</td>\n",
       "      <td>강서구</td>\n",
       "    </tr>\n",
       "    <tr>\n",
       "      <th>16</th>\n",
       "      <td>11170</td>\n",
       "      <td>구로구</td>\n",
       "    </tr>\n",
       "    <tr>\n",
       "      <th>17</th>\n",
       "      <td>11180</td>\n",
       "      <td>금천구</td>\n",
       "    </tr>\n",
       "    <tr>\n",
       "      <th>18</th>\n",
       "      <td>11190</td>\n",
       "      <td>영등포구</td>\n",
       "    </tr>\n",
       "    <tr>\n",
       "      <th>19</th>\n",
       "      <td>11200</td>\n",
       "      <td>동작구</td>\n",
       "    </tr>\n",
       "    <tr>\n",
       "      <th>20</th>\n",
       "      <td>11210</td>\n",
       "      <td>관악구</td>\n",
       "    </tr>\n",
       "    <tr>\n",
       "      <th>21</th>\n",
       "      <td>11220</td>\n",
       "      <td>서초구</td>\n",
       "    </tr>\n",
       "    <tr>\n",
       "      <th>22</th>\n",
       "      <td>11230</td>\n",
       "      <td>강남구</td>\n",
       "    </tr>\n",
       "    <tr>\n",
       "      <th>23</th>\n",
       "      <td>11240</td>\n",
       "      <td>송파구</td>\n",
       "    </tr>\n",
       "    <tr>\n",
       "      <th>24</th>\n",
       "      <td>11250</td>\n",
       "      <td>강동구</td>\n",
       "    </tr>\n",
       "  </tbody>\n",
       "</table>\n",
       "</div>"
      ],
      "text/plain": [
       "    도착 시군구 코드   자치구\n",
       "0       11010   종로구\n",
       "1       11020    중구\n",
       "2       11030   용산구\n",
       "3       11040   성동구\n",
       "4       11050   광진구\n",
       "5       11060  동대문구\n",
       "6       11070   중랑구\n",
       "7       11080   성북구\n",
       "8       11090   강북구\n",
       "9       11100   도봉구\n",
       "10      11110   노원구\n",
       "11      11120   은평구\n",
       "12      11130  서대문구\n",
       "13      11140   마포구\n",
       "14      11150   양천구\n",
       "15      11160   강서구\n",
       "16      11170   구로구\n",
       "17      11180   금천구\n",
       "18      11190  영등포구\n",
       "19      11200   동작구\n",
       "20      11210   관악구\n",
       "21      11220   서초구\n",
       "22      11230   강남구\n",
       "23      11240   송파구\n",
       "24      11250   강동구"
      ]
     },
     "execution_count": 3,
     "metadata": {},
     "output_type": "execute_result"
    }
   ],
   "source": [
    "standard"
   ]
  },
  {
   "cell_type": "code",
   "execution_count": 4,
   "id": "5ee007e0",
   "metadata": {
    "id": "5ee007e0"
   },
   "outputs": [],
   "source": [
    "# 버스 정류장 데이터 - df_seoul_bus_station\n",
    "# 유동인구 데이터 - df_seoul_moving\n",
    "# 구별 상권 데이터 - df_seoul_business\n",
    "# 구별 등록 인구 데이터 - df_seoul_people"
   ]
  },
  {
   "cell_type": "code",
   "execution_count": 5,
   "id": "d8f6cfe8",
   "metadata": {
    "id": "d8f6cfe8"
   },
   "outputs": [],
   "source": [
    "df_seoul_bus_station = pd.read_csv('df_seoul_bus_station.csv', sep=\",\", encoding = 'UTF-8')\n",
    "#df_seoul_moving = pd.read_csv('df_seoul_moving.csv', sep=\",\", encoding = 'UTF-8')\n",
    "df_seoul_business = pd.read_csv('df_seoul_business.csv', sep=\",\", encoding = 'UTF-8')\n",
    "df_seoul_people = pd.read_csv('df_seoul_people.csv', sep=\",\", encoding = 'UTF-8')"
   ]
  },
  {
   "cell_type": "code",
   "execution_count": 6,
   "id": "aa6489c6",
   "metadata": {
    "id": "aa6489c6"
   },
   "outputs": [],
   "source": [
    "# 아래에 실습코드를 작성하고 결과를 확인합니다."
   ]
  },
  {
   "cell_type": "code",
   "execution_count": 7,
   "id": "01b9e8ba",
   "metadata": {
    "id": "01b9e8ba"
   },
   "outputs": [],
   "source": [
    "# 아래에 실습코드를 작성하고 결과를 확인합니다."
   ]
  },
  {
   "cell_type": "code",
   "execution_count": 8,
   "id": "9cc8bb00",
   "metadata": {
    "id": "9cc8bb00"
   },
   "outputs": [],
   "source": [
    "df = pd.merge(standard,df_seoul_people,how='inner', on='자치구')\n",
    "df = pd.merge(df,df_seoul_business,how='inner', on='자치구')\n",
    "df = pd.merge(df,df_seoul_bus_station,how='inner', on='자치구')\n",
    "#df = pd.merge(df,df_seoul_moving,how='inner', on='도착 시군구 코드')"
   ]
  },
  {
   "cell_type": "code",
   "execution_count": 9,
   "id": "66f48d37",
   "metadata": {},
   "outputs": [],
   "source": [
    "df.to_csv(\"last_df.csv\", index = False)"
   ]
  },
  {
   "cell_type": "code",
   "execution_count": 10,
   "id": "17ca96cb",
   "metadata": {},
   "outputs": [
    {
     "data": {
      "text/plain": [
       "도착 시군구 코드      0\n",
       "자치구            0\n",
       "인구 합계          0\n",
       "65세이상고령자       0\n",
       "택시운송업 사업체 수    0\n",
       "택시운송업 종사자 수    0\n",
       "정류장수           0\n",
       "노선수            0\n",
       "승차총승객수         0\n",
       "하차총승객수         0\n",
       "승차평균승객수        0\n",
       "하차평균승객수        0\n",
       "승하차총승객수        0\n",
       "dtype: int64"
      ]
     },
     "execution_count": 10,
     "metadata": {},
     "output_type": "execute_result"
    }
   ],
   "source": [
    "df.isnull().sum()"
   ]
  },
  {
   "cell_type": "markdown",
   "id": "ca567b34",
   "metadata": {
    "id": "ca567b34"
   },
   "source": [
    "---"
   ]
  },
  {
   "cell_type": "markdown",
   "id": "b2edf769",
   "metadata": {
    "id": "b2edf769"
   },
   "source": [
    "## 1.가설 수립 \n",
    "+ 어떤 데이터를 label 데이터로 하실 건가요?\n",
    "\n",
    "? 정해진게 없나요? - 네 라벨을 개인및 조별로 고민하셔서 라벨데이터를 설정하시면 되겠습니다\n",
    "? 가설마다 라벨데이터가 달라도 상관없나요? 네 그렇습니다\n",
    "? 가설은 3개만 해야하나요? 그 이상 하셔도 무방합니다\n",
    "\n",
    "### 가설을 설정해 봅시다 (인당 최소 3개) - 미니프로젝트 진행의 편의상 가설은 이변량 분석을 염두에 두고 설정해 주세요"
   ]
  },
  {
   "cell_type": "markdown",
   "id": "b3d42e07",
   "metadata": {
    "id": "b3d42e07"
   },
   "source": [
    "* 가설 1\n",
    "\n",
    "승하차 총승객수가 많은 곳에 버스 노선수가 더 필요하다"
   ]
  },
  {
   "cell_type": "markdown",
   "id": "4fd1db81",
   "metadata": {
    "id": "4fd1db81"
   },
   "source": [
    "* 가설 2"
   ]
  },
  {
   "cell_type": "markdown",
   "id": "e527bc75",
   "metadata": {
    "id": "e527bc75"
   },
   "source": [
    "* 가설 3"
   ]
  },
  {
   "cell_type": "markdown",
   "id": "6aa7b930",
   "metadata": {
    "id": "6aa7b930"
   },
   "source": [
    "## 2.단변량 분석\n",
    "\n",
    "+ 변수의 비즈니스 의미  \n",
    "\n",
    "+ 숫자? 범주?  \n",
    "\n",
    "+ 전처리 사항\n",
    "   - NaN 존재 여부 및 조치 방안  \n",
    "   - 가변수화 대상여부  \n",
    "   \n",
    "+ 기초통계량\n",
    "\n",
    "+ 분포  \n",
    "\n",
    "+ 위 정보로부터 파악한 내용(비즈니스!) 정리  \n",
    "\n",
    "+ 추가 분석해볼 사항 도출"
   ]
  },
  {
   "cell_type": "code",
   "execution_count": 11,
   "id": "ac29ff87",
   "metadata": {},
   "outputs": [],
   "source": [
    "from scipy.stats import kruskal\n",
    "import scipy.stats as stats\n",
    "import scipy.stats\n",
    "from scipy.stats import probplot\n",
    "import scipy.stats as spst\n",
    "import seaborn as sns\n",
    "import matplotlib.pyplot as plt\n",
    "import numpy as np"
   ]
  },
  {
   "cell_type": "code",
   "execution_count": 12,
   "id": "8c033b5a",
   "metadata": {},
   "outputs": [],
   "source": [
    "#df.drop(columns=df.columns[[]], inplace=True)"
   ]
  },
  {
   "cell_type": "code",
   "execution_count": 13,
   "id": "c978bcd3",
   "metadata": {
    "scrolled": true
   },
   "outputs": [
    {
     "data": {
      "text/plain": [
       "(25, 13)"
      ]
     },
     "execution_count": 13,
     "metadata": {},
     "output_type": "execute_result"
    }
   ],
   "source": [
    "df.shape"
   ]
  },
  {
   "cell_type": "markdown",
   "id": "ac81d719",
   "metadata": {
    "id": "ac81d719"
   },
   "source": [
    "## 3.이변량 분석\n",
    "\n",
    "* 자료의 종류에 맞게 X --> Y 에 대해서 그래프(시각화)와 가설검정(수치화)를 수행하고 결과를 평가합니다.\n",
    "\n",
    "* 가설검정시 다음의 항목을 참조하여 수행합니다.\n",
    "    * 유의수준 : 5%\n",
    "    * 숫자 --> 숫자 : 상관분석\n",
    "    * 범주 --> 범주 : 카이제곱검정\n",
    "    * 범주 --> 숫자 : t검정, 분산분석\n",
    "    * 숫자 --> 범주 : 로지스틱 회귀모형을 통해, 회귀계수의 P.value로 검정을 수행합니다.\n"
   ]
  },
  {
   "cell_type": "markdown",
   "id": "b2251e9c",
   "metadata": {},
   "source": [
    "# 정규성 검정"
   ]
  },
  {
   "cell_type": "code",
   "execution_count": 14,
   "id": "cf56a285",
   "metadata": {
    "scrolled": true
   },
   "outputs": [
    {
     "data": {
      "image/png": "[encoded data removed]",
      "text/plain": [
       "<Figure size 432x288 with 1 Axes>"
      ]
     },
     "metadata": {
      "needs_background": "light"
     },
     "output_type": "display_data"
    }
   ],
   "source": [
    "plt.figure()\n",
    "probplot(df['노선수'], plot=plt)\n",
    "plt.show()"
   ]
  },
  {
   "cell_type": "markdown",
   "id": "36f6794c",
   "metadata": {},
   "source": [
    "QQ plot 그래프"
   ]
  },
  {
   "cell_type": "code",
   "execution_count": 15,
   "id": "f7155844",
   "metadata": {
    "scrolled": false
   },
   "outputs": [
    {
     "name": "stdout",
     "output_type": "stream",
     "text": [
      "검정통계치 W : 0.95583\n",
      "p-value : 0.337694138288497924804687500000000000000000000\n"
     ]
    }
   ],
   "source": [
    "test_stat, p_val = stats.shapiro(df['승하차총승객수'])\n",
    "print(\"검정통계치 W : %.5f\"%test_stat)\n",
    "print(\"p-value : %.45f\"%p_val)"
   ]
  },
  {
   "cell_type": "code",
   "execution_count": 16,
   "id": "c13b5c9c",
   "metadata": {
    "scrolled": true
   },
   "outputs": [
    {
     "name": "stdout",
     "output_type": "stream",
     "text": [
      "검정통계치 W : 0.94532\n",
      "p-value : 0.196290209889411926269531250000000000000000000\n"
     ]
    }
   ],
   "source": [
    "test_stat, p_val = stats.shapiro(df['노선수'])\n",
    "print(\"검정통계치 W : %.5f\"%test_stat)\n",
    "print(\"p-value : %.45f\"%p_val)"
   ]
  },
  {
   "cell_type": "markdown",
   "id": "507e2b5a",
   "metadata": {},
   "source": [
    "shapiro 검증을 통한 정규성 검정"
   ]
  },
  {
   "cell_type": "markdown",
   "id": "1c6e803c",
   "metadata": {},
   "source": [
    "## p-value < 0.5 이므로 정규성 따름"
   ]
  },
  {
   "cell_type": "markdown",
   "id": "559f99ed",
   "metadata": {},
   "source": [
    "# 노선수에 따른 승하차 총 승객수 그래프"
   ]
  },
  {
   "cell_type": "code",
   "execution_count": 17,
   "id": "e11f54f8",
   "metadata": {},
   "outputs": [],
   "source": [
    "from matplotlib import font_manager, rc\n",
    "font_path = \"C:/Windows/Fonts/NGULIM.TTF\"\n",
    "font = font_manager.FontProperties(fname=font_path).get_name()\n",
    "rc('font', family=font)"
   ]
  },
  {
   "cell_type": "code",
   "execution_count": 18,
   "id": "c210536a",
   "metadata": {
    "scrolled": true
   },
   "outputs": [
    {
     "data": {
      "image/png": "[encoded data removed]",
      "text/plain": [
       "<Figure size 1440x576 with 1 Axes>"
      ]
     },
     "metadata": {
      "needs_background": "light"
     },
     "output_type": "display_data"
    }
   ],
   "source": [
    "fig=plt.figure(figsize=(20,8))\n",
    "plt.scatter(df['승하차총승객수'],df['노선수'])\n",
    "\n",
    "for i in range(len(df)): # 행 개수만큼 순회\n",
    "    row = df.iloc[i] # 한 행씩 꺼내기\n",
    "    name = row['자치구'] # 이름이 저장된 열\n",
    "    x = row['승하차총승객수'] # x좌표가 저장된 열\n",
    "    y = row['노선수'] # y좌표가 저장된 열\n",
    "\n",
    "    plt.text(x, y, name) # x 좌표, y좌표, 이름 순서로 input 지정\n",
    "\n",
    "plt.show()"
   ]
  },
  {
   "cell_type": "markdown",
   "id": "b5535665",
   "metadata": {},
   "source": [
    "# 피어슨을 이용한 상관계수"
   ]
  },
  {
   "cell_type": "code",
   "execution_count": 19,
   "id": "add7ca9d",
   "metadata": {},
   "outputs": [
    {
     "data": {
      "text/plain": [
       "(0.6596714851091889, 0.00033402677594491934)"
      ]
     },
     "execution_count": 19,
     "metadata": {},
     "output_type": "execute_result"
    }
   ],
   "source": [
    "spst.pearsonr(df['노선수'],df['승하차총승객수'])"
   ]
  },
  {
   "cell_type": "markdown",
   "id": "71de90ca",
   "metadata": {},
   "source": [
    "### 0.65의 양의 상관계수 가짐. p-value가 0.05보다 작으므로 상관계수가 0 이라는 귀무가설 기각"
   ]
  },
  {
   "cell_type": "markdown",
   "id": "9b7315e4",
   "metadata": {},
   "source": [
    "# 회귀분석"
   ]
  },
  {
   "cell_type": "code",
   "execution_count": 20,
   "id": "a06ee696",
   "metadata": {},
   "outputs": [],
   "source": [
    "from statsmodels.formula.api import ols"
   ]
  },
  {
   "cell_type": "code",
   "execution_count": 21,
   "id": "3dd98a21",
   "metadata": {},
   "outputs": [],
   "source": [
    "res = ols('승하차총승객수 ~ 노선수', data = df).fit()"
   ]
  },
  {
   "cell_type": "code",
   "execution_count": 22,
   "id": "2a7222ea",
   "metadata": {},
   "outputs": [
    {
     "data": {
      "text/html": [
       "<table class=\"simpletable\">\n",
       "<caption>OLS Regression Results</caption>\n",
       "<tr>\n",
       "  <th>Dep. Variable:</th>         <td>승하차총승객수</td>     <th>  R-squared:         </th> <td>   0.435</td>\n",
       "</tr>\n",
       "<tr>\n",
       "  <th>Model:</th>                   <td>OLS</td>       <th>  Adj. R-squared:    </th> <td>   0.411</td>\n",
       "</tr>\n",
       "<tr>\n",
       "  <th>Method:</th>             <td>Least Squares</td>  <th>  F-statistic:       </th> <td>   17.72</td>\n",
       "</tr>\n",
       "<tr>\n",
       "  <th>Date:</th>             <td>Mon, 07 Nov 2022</td> <th>  Prob (F-statistic):</th> <td>0.000334</td>\n",
       "</tr>\n",
       "<tr>\n",
       "  <th>Time:</th>                 <td>17:39:49</td>     <th>  Log-Likelihood:    </th> <td> -399.12</td>\n",
       "</tr>\n",
       "<tr>\n",
       "  <th>No. Observations:</th>      <td>    25</td>      <th>  AIC:               </th> <td>   802.2</td>\n",
       "</tr>\n",
       "<tr>\n",
       "  <th>Df Residuals:</th>          <td>    23</td>      <th>  BIC:               </th> <td>   804.7</td>\n",
       "</tr>\n",
       "<tr>\n",
       "  <th>Df Model:</th>              <td>     1</td>      <th>                     </th>     <td> </td>   \n",
       "</tr>\n",
       "<tr>\n",
       "  <th>Covariance Type:</th>      <td>nonrobust</td>    <th>                     </th>     <td> </td>   \n",
       "</tr>\n",
       "</table>\n",
       "<table class=\"simpletable\">\n",
       "<tr>\n",
       "      <td></td>         <th>coef</th>     <th>std err</th>      <th>t</th>      <th>P>|t|</th>  <th>[0.025</th>    <th>0.975]</th>  \n",
       "</tr>\n",
       "<tr>\n",
       "  <th>Intercept</th> <td> 4.016e+06</td> <td> 1.42e+06</td> <td>    2.827</td> <td> 0.010</td> <td> 1.08e+06</td> <td> 6.96e+06</td>\n",
       "</tr>\n",
       "<tr>\n",
       "  <th>노선수</th>       <td> 7.812e+04</td> <td> 1.86e+04</td> <td>    4.210</td> <td> 0.000</td> <td> 3.97e+04</td> <td> 1.17e+05</td>\n",
       "</tr>\n",
       "</table>\n",
       "<table class=\"simpletable\">\n",
       "<tr>\n",
       "  <th>Omnibus:</th>       <td> 2.434</td> <th>  Durbin-Watson:     </th> <td>   0.943</td>\n",
       "</tr>\n",
       "<tr>\n",
       "  <th>Prob(Omnibus):</th> <td> 0.296</td> <th>  Jarque-Bera (JB):  </th> <td>   1.126</td>\n",
       "</tr>\n",
       "<tr>\n",
       "  <th>Skew:</th>          <td> 0.449</td> <th>  Prob(JB):          </th> <td>   0.569</td>\n",
       "</tr>\n",
       "<tr>\n",
       "  <th>Kurtosis:</th>      <td> 3.523</td> <th>  Cond. No.          </th> <td>    251.</td>\n",
       "</tr>\n",
       "</table><br/><br/>Notes:<br/>[1] Standard Errors assume that the covariance matrix of the errors is correctly specified."
      ],
      "text/plain": [
       "<class 'statsmodels.iolib.summary.Summary'>\n",
       "\"\"\"\n",
       "                            OLS Regression Results                            \n",
       "==============================================================================\n",
       "Dep. Variable:                승하차총승객수   R-squared:                       0.435\n",
       "Model:                            OLS   Adj. R-squared:                  0.411\n",
       "Method:                 Least Squares   F-statistic:                     17.72\n",
       "Date:                Mon, 07 Nov 2022   Prob (F-statistic):           0.000334\n",
       "Time:                        17:39:49   Log-Likelihood:                -399.12\n",
       "No. Observations:                  25   AIC:                             802.2\n",
       "Df Residuals:                      23   BIC:                             804.7\n",
       "Df Model:                           1                                         \n",
       "Covariance Type:            nonrobust                                         \n",
       "==============================================================================\n",
       "                 coef    std err          t      P>|t|      [0.025      0.975]\n",
       "------------------------------------------------------------------------------\n",
       "Intercept   4.016e+06   1.42e+06      2.827      0.010    1.08e+06    6.96e+06\n",
       "노선수         7.812e+04   1.86e+04      4.210      0.000    3.97e+04    1.17e+05\n",
       "==============================================================================\n",
       "Omnibus:                        2.434   Durbin-Watson:                   0.943\n",
       "Prob(Omnibus):                  0.296   Jarque-Bera (JB):                1.126\n",
       "Skew:                           0.449   Prob(JB):                        0.569\n",
       "Kurtosis:                       3.523   Cond. No.                         251.\n",
       "==============================================================================\n",
       "\n",
       "Notes:\n",
       "[1] Standard Errors assume that the covariance matrix of the errors is correctly specified.\n",
       "\"\"\""
      ]
     },
     "execution_count": 22,
     "metadata": {},
     "output_type": "execute_result"
    }
   ],
   "source": [
    "res.summary()"
   ]
  },
  {
   "cell_type": "markdown",
   "id": "dae63433",
   "metadata": {},
   "source": [
    "## 설명력(R-squared)는 0.435로 약 43%를 설명한다.\n",
    "\n",
    "## Prob(F-statistic) 즉, P-value가 0.05 > 0.000334 이므로 유의미하다. 즉, 서로 상관관계이다.\n",
    "\n",
    "## P>|t| 가 0.05 보다 작으므로 노선수가 증가할 때 기대되는 승하차 총 승객수의 변화는 유의수준 5%에서 통계적으로 유의미하다."
   ]
  },
  {
   "cell_type": "markdown",
   "id": "134f62ce",
   "metadata": {},
   "source": [
    "### Coef는 데이터로부터 얻은 계수의 추정치를 말한다.\n",
    "\n",
    "### 절편(Intercept)의 추정치는 4.016e+06로, 노선수가 0일 때 승하차 총 승객수의 값이다.\n",
    "\n",
    "### 노선수의 계수 추정치는 7.812e+04로 노선수가 1 증가할 때마다 승하차 총 승객수가 7.812e+04 증가한다는 것을 의미한다.\n",
    "\n",
    "## 즉, 수식으로 정리하면, 승하차 총 승객수 = 4.016e+06 +  7.812e+04 * 노선수이다."
   ]
  },
  {
   "cell_type": "code",
   "execution_count": 23,
   "id": "5abe2b94",
   "metadata": {
    "scrolled": true
   },
   "outputs": [
    {
     "name": "stderr",
     "output_type": "stream",
     "text": [
      "C:\\Users\\swjdg\\AppData\\Local\\Programs\\Python\\Python37\\lib\\site-packages\\ipykernel_launcher.py:2: SettingWithCopyWarning: \n",
      "A value is trying to be set on a copy of a slice from a DataFrame.\n",
      "Try using .loc[row_indexer,col_indexer] = value instead\n",
      "\n",
      "See the caveats in the documentation: https://pandas.pydata.org/pandas-docs/stable/user_guide/indexing.html#returning-a-view-versus-a-copy\n",
      "  \n",
      "C:\\Users\\swjdg\\AppData\\Local\\Programs\\Python\\Python37\\lib\\site-packages\\ipykernel_launcher.py:3: SettingWithCopyWarning: \n",
      "A value is trying to be set on a copy of a slice from a DataFrame.\n",
      "Try using .loc[row_indexer,col_indexer] = value instead\n",
      "\n",
      "See the caveats in the documentation: https://pandas.pydata.org/pandas-docs/stable/user_guide/indexing.html#returning-a-view-versus-a-copy\n",
      "  This is separate from the ipykernel package so we can avoid doing imports until\n"
     ]
    },
    {
     "data": {
      "image/png": "[encoded data removed]",
      "text/plain": [
       "<Figure size 1440x288 with 1 Axes>"
      ]
     },
     "metadata": {
      "needs_background": "light"
     },
     "output_type": "display_data"
    }
   ],
   "source": [
    "theory = df[['자치구','승하차총승객수','노선수']]\n",
    "theory['회귀예측 총승객수'] = 4.016e+06 + 7.812e+04 * theory['노선수']\n",
    "theory['예측차이'] = theory['승하차총승객수'] - theory['회귀예측 총승객수']\n",
    "\n",
    "plt.figure(figsize=(20,4))\n",
    "plt.bar('자치구','예측차이',data = theory.sort_values('예측차이',ascending=False))\n",
    "plt.show()"
   ]
  },
  {
   "cell_type": "markdown",
   "id": "3b02e6e0",
   "metadata": {},
   "source": [
    "## 위 그래프를 보면, 0을 기준으로 양수값이면 예측값보다 노선수가 많다는 의미이고, 음수이면 예측값보다 노선수가 적다는 뜻이다."
   ]
  },
  {
   "cell_type": "markdown",
   "id": "4f0351cf",
   "metadata": {},
   "source": [
    "## 정렬(sort)해서 나타내 보았다."
   ]
  },
  {
   "cell_type": "code",
   "execution_count": 24,
   "id": "0da9b13d",
   "metadata": {},
   "outputs": [
    {
     "data": {
      "text/html": [
       "<div>\n",
       "<style scoped>\n",
       "    .dataframe tbody tr th:only-of-type {\n",
       "        vertical-align: middle;\n",
       "    }\n",
       "\n",
       "    .dataframe tbody tr th {\n",
       "        vertical-align: top;\n",
       "    }\n",
       "\n",
       "    .dataframe thead th {\n",
       "        text-align: right;\n",
       "    }\n",
       "</style>\n",
       "<table border=\"1\" class=\"dataframe\">\n",
       "  <thead>\n",
       "    <tr style=\"text-align: right;\">\n",
       "      <th></th>\n",
       "      <th>자치구</th>\n",
       "      <th>승하차총승객수</th>\n",
       "      <th>노선수</th>\n",
       "      <th>회귀예측 총승객수</th>\n",
       "      <th>예측차이</th>\n",
       "    </tr>\n",
       "  </thead>\n",
       "  <tbody>\n",
       "    <tr>\n",
       "      <th>20</th>\n",
       "      <td>관악구</td>\n",
       "      <td>15448295</td>\n",
       "      <td>86</td>\n",
       "      <td>10734320.0</td>\n",
       "      <td>4713975.0</td>\n",
       "    </tr>\n",
       "    <tr>\n",
       "      <th>22</th>\n",
       "      <td>강남구</td>\n",
       "      <td>15599696</td>\n",
       "      <td>91</td>\n",
       "      <td>11124920.0</td>\n",
       "      <td>4474776.0</td>\n",
       "    </tr>\n",
       "    <tr>\n",
       "      <th>23</th>\n",
       "      <td>송파구</td>\n",
       "      <td>11245230</td>\n",
       "      <td>55</td>\n",
       "      <td>8312600.0</td>\n",
       "      <td>2932630.0</td>\n",
       "    </tr>\n",
       "    <tr>\n",
       "      <th>21</th>\n",
       "      <td>서초구</td>\n",
       "      <td>14199280</td>\n",
       "      <td>93</td>\n",
       "      <td>11281160.0</td>\n",
       "      <td>2918120.0</td>\n",
       "    </tr>\n",
       "    <tr>\n",
       "      <th>15</th>\n",
       "      <td>강서구</td>\n",
       "      <td>9333911</td>\n",
       "      <td>49</td>\n",
       "      <td>7843880.0</td>\n",
       "      <td>1490031.0</td>\n",
       "    </tr>\n",
       "    <tr>\n",
       "      <th>11</th>\n",
       "      <td>은평구</td>\n",
       "      <td>10324159</td>\n",
       "      <td>71</td>\n",
       "      <td>9562520.0</td>\n",
       "      <td>761639.0</td>\n",
       "    </tr>\n",
       "    <tr>\n",
       "      <th>7</th>\n",
       "      <td>성북구</td>\n",
       "      <td>12467662</td>\n",
       "      <td>99</td>\n",
       "      <td>11749880.0</td>\n",
       "      <td>717782.0</td>\n",
       "    </tr>\n",
       "    <tr>\n",
       "      <th>5</th>\n",
       "      <td>동대문구</td>\n",
       "      <td>10355944</td>\n",
       "      <td>73</td>\n",
       "      <td>9718760.0</td>\n",
       "      <td>637184.0</td>\n",
       "    </tr>\n",
       "    <tr>\n",
       "      <th>8</th>\n",
       "      <td>강북구</td>\n",
       "      <td>9496964</td>\n",
       "      <td>67</td>\n",
       "      <td>9250040.0</td>\n",
       "      <td>246924.0</td>\n",
       "    </tr>\n",
       "    <tr>\n",
       "      <th>10</th>\n",
       "      <td>노원구</td>\n",
       "      <td>8646019</td>\n",
       "      <td>57</td>\n",
       "      <td>8468840.0</td>\n",
       "      <td>177179.0</td>\n",
       "    </tr>\n",
       "    <tr>\n",
       "      <th>24</th>\n",
       "      <td>강동구</td>\n",
       "      <td>5720559</td>\n",
       "      <td>21</td>\n",
       "      <td>5656520.0</td>\n",
       "      <td>64039.0</td>\n",
       "    </tr>\n",
       "    <tr>\n",
       "      <th>6</th>\n",
       "      <td>중랑구</td>\n",
       "      <td>7533464</td>\n",
       "      <td>48</td>\n",
       "      <td>7765760.0</td>\n",
       "      <td>-232296.0</td>\n",
       "    </tr>\n",
       "    <tr>\n",
       "      <th>18</th>\n",
       "      <td>영등포구</td>\n",
       "      <td>11523086</td>\n",
       "      <td>101</td>\n",
       "      <td>11906120.0</td>\n",
       "      <td>-383034.0</td>\n",
       "    </tr>\n",
       "    <tr>\n",
       "      <th>16</th>\n",
       "      <td>구로구</td>\n",
       "      <td>9673189</td>\n",
       "      <td>79</td>\n",
       "      <td>10187480.0</td>\n",
       "      <td>-514291.0</td>\n",
       "    </tr>\n",
       "    <tr>\n",
       "      <th>14</th>\n",
       "      <td>양천구</td>\n",
       "      <td>7860345</td>\n",
       "      <td>56</td>\n",
       "      <td>8390720.0</td>\n",
       "      <td>-530375.0</td>\n",
       "    </tr>\n",
       "    <tr>\n",
       "      <th>12</th>\n",
       "      <td>서대문구</td>\n",
       "      <td>11660459</td>\n",
       "      <td>107</td>\n",
       "      <td>12374840.0</td>\n",
       "      <td>-714381.0</td>\n",
       "    </tr>\n",
       "    <tr>\n",
       "      <th>19</th>\n",
       "      <td>동작구</td>\n",
       "      <td>10426550</td>\n",
       "      <td>94</td>\n",
       "      <td>11359280.0</td>\n",
       "      <td>-932730.0</td>\n",
       "    </tr>\n",
       "    <tr>\n",
       "      <th>2</th>\n",
       "      <td>용산구</td>\n",
       "      <td>8276451</td>\n",
       "      <td>67</td>\n",
       "      <td>9250040.0</td>\n",
       "      <td>-973589.0</td>\n",
       "    </tr>\n",
       "    <tr>\n",
       "      <th>9</th>\n",
       "      <td>도봉구</td>\n",
       "      <td>6515726</td>\n",
       "      <td>46</td>\n",
       "      <td>7609520.0</td>\n",
       "      <td>-1093794.0</td>\n",
       "    </tr>\n",
       "    <tr>\n",
       "      <th>17</th>\n",
       "      <td>금천구</td>\n",
       "      <td>7358588</td>\n",
       "      <td>58</td>\n",
       "      <td>8546960.0</td>\n",
       "      <td>-1188372.0</td>\n",
       "    </tr>\n",
       "    <tr>\n",
       "      <th>13</th>\n",
       "      <td>마포구</td>\n",
       "      <td>10046057</td>\n",
       "      <td>97</td>\n",
       "      <td>11593640.0</td>\n",
       "      <td>-1547583.0</td>\n",
       "    </tr>\n",
       "    <tr>\n",
       "      <th>0</th>\n",
       "      <td>종로구</td>\n",
       "      <td>10674329</td>\n",
       "      <td>106</td>\n",
       "      <td>12296720.0</td>\n",
       "      <td>-1622391.0</td>\n",
       "    </tr>\n",
       "    <tr>\n",
       "      <th>4</th>\n",
       "      <td>광진구</td>\n",
       "      <td>5502859</td>\n",
       "      <td>41</td>\n",
       "      <td>7218920.0</td>\n",
       "      <td>-1716061.0</td>\n",
       "    </tr>\n",
       "    <tr>\n",
       "      <th>3</th>\n",
       "      <td>성동구</td>\n",
       "      <td>5554018</td>\n",
       "      <td>58</td>\n",
       "      <td>8546960.0</td>\n",
       "      <td>-2992942.0</td>\n",
       "    </tr>\n",
       "    <tr>\n",
       "      <th>1</th>\n",
       "      <td>중구</td>\n",
       "      <td>7375607</td>\n",
       "      <td>103</td>\n",
       "      <td>12062360.0</td>\n",
       "      <td>-4686753.0</td>\n",
       "    </tr>\n",
       "  </tbody>\n",
       "</table>\n",
       "</div>"
      ],
      "text/plain": [
       "     자치구   승하차총승객수  노선수   회귀예측 총승객수       예측차이\n",
       "20   관악구  15448295   86  10734320.0  4713975.0\n",
       "22   강남구  15599696   91  11124920.0  4474776.0\n",
       "23   송파구  11245230   55   8312600.0  2932630.0\n",
       "21   서초구  14199280   93  11281160.0  2918120.0\n",
       "15   강서구   9333911   49   7843880.0  1490031.0\n",
       "11   은평구  10324159   71   9562520.0   761639.0\n",
       "7    성북구  12467662   99  11749880.0   717782.0\n",
       "5   동대문구  10355944   73   9718760.0   637184.0\n",
       "8    강북구   9496964   67   9250040.0   246924.0\n",
       "10   노원구   8646019   57   8468840.0   177179.0\n",
       "24   강동구   5720559   21   5656520.0    64039.0\n",
       "6    중랑구   7533464   48   7765760.0  -232296.0\n",
       "18  영등포구  11523086  101  11906120.0  -383034.0\n",
       "16   구로구   9673189   79  10187480.0  -514291.0\n",
       "14   양천구   7860345   56   8390720.0  -530375.0\n",
       "12  서대문구  11660459  107  12374840.0  -714381.0\n",
       "19   동작구  10426550   94  11359280.0  -932730.0\n",
       "2    용산구   8276451   67   9250040.0  -973589.0\n",
       "9    도봉구   6515726   46   7609520.0 -1093794.0\n",
       "17   금천구   7358588   58   8546960.0 -1188372.0\n",
       "13   마포구  10046057   97  11593640.0 -1547583.0\n",
       "0    종로구  10674329  106  12296720.0 -1622391.0\n",
       "4    광진구   5502859   41   7218920.0 -1716061.0\n",
       "3    성동구   5554018   58   8546960.0 -2992942.0\n",
       "1     중구   7375607  103  12062360.0 -4686753.0"
      ]
     },
     "execution_count": 24,
     "metadata": {},
     "output_type": "execute_result"
    }
   ],
   "source": [
    "theory.sort_values(by='예측차이', ascending=False)"
   ]
  },
  {
   "cell_type": "code",
   "execution_count": 25,
   "id": "0e3e4f02",
   "metadata": {
    "scrolled": false
   },
   "outputs": [
    {
     "data": {
      "image/png": "[encoded data removed]",
      "text/plain": [
       "<Figure size 1440x576 with 1 Axes>"
      ]
     },
     "metadata": {
      "needs_background": "light"
     },
     "output_type": "display_data"
    }
   ],
   "source": [
    "fig=plt.figure(figsize=(20,8))\n",
    "plt.scatter(df['노선수'],df['승하차총승객수'])\n",
    "sns.regplot(x='노선수',y='승하차총승객수',data=theory) #예측값\n",
    "\n",
    "for i in range(len(df)): # 행 개수만큼 순회\n",
    "    row = df.iloc[i] # 한 행씩 꺼내기\n",
    "    name = row['자치구'] # 이름이 저장된 열\n",
    "    x = row['노선수'] # x좌표가 저장된 열\n",
    "    y = row['승하차총승객수'] # y좌표가 저장된 열\n",
    "\n",
    "    plt.text(x, y, name) # x 좌표, y좌표, 이름 순서로 input 지정\n",
    "\n",
    "plt.show()"
   ]
  },
  {
   "cell_type": "markdown",
   "id": "ab58778c",
   "metadata": {},
   "source": [
    "## 파란 영역과 멀리 떨어져 있을수록 노선수가 많거나 적은 것."
   ]
  },
  {
   "cell_type": "markdown",
   "id": "19b9b048",
   "metadata": {},
   "source": [
    "# 중구, 성동구가 승하차 총 승객수 대비 노선수가 많이 부족하고, 관악구, 강남구가 승하차 총 승객수 대비 노선수가 많다는 것을 알 수 있다."
   ]
  },
  {
   "cell_type": "markdown",
   "id": "af4e9911",
   "metadata": {},
   "source": [
    "# LinearRegression 활용한 선형 회귀 모델 구현"
   ]
  },
  {
   "cell_type": "code",
   "execution_count": 26,
   "id": "2978ea33",
   "metadata": {},
   "outputs": [],
   "source": [
    "from sklearn.linear_model import LinearRegression"
   ]
  },
  {
   "cell_type": "code",
   "execution_count": 27,
   "id": "63236c28",
   "metadata": {},
   "outputs": [],
   "source": [
    "line_fitter = LinearRegression()"
   ]
  },
  {
   "cell_type": "code",
   "execution_count": 28,
   "id": "0dad3114",
   "metadata": {},
   "outputs": [
    {
     "data": {
      "text/plain": [
       "LinearRegression()"
      ]
     },
     "execution_count": 28,
     "metadata": {},
     "output_type": "execute_result"
    }
   ],
   "source": [
    "line_fitter.fit(df['승하차총승객수'].values.reshape(-1,1), df['노선수'])\n",
    "\n",
    "# X는 2차원 배열 형태여야 하기 때문에 reshape 했습니다.\n",
    "#fit() 메서드는 선형 회귀 모델에 필요한 두 가지 변수를 전달하는 것."
   ]
  },
  {
   "cell_type": "code",
   "execution_count": 29,
   "id": "cf0c36f6",
   "metadata": {},
   "outputs": [
    {
     "data": {
      "text/plain": [
       "array([5.57050841e-06])"
      ]
     },
     "execution_count": 29,
     "metadata": {},
     "output_type": "execute_result"
    }
   ],
   "source": [
    "line_fitter.coef_\n",
    "# 기울기"
   ]
  },
  {
   "cell_type": "code",
   "execution_count": 30,
   "id": "3993d3c5",
   "metadata": {},
   "outputs": [
    {
     "data": {
      "text/plain": [
       "18.815111972468337"
      ]
     },
     "execution_count": 30,
     "metadata": {},
     "output_type": "execute_result"
    }
   ],
   "source": [
    "line_fitter.intercept_\n",
    "# 절편"
   ]
  },
  {
   "cell_type": "code",
   "execution_count": 31,
   "id": "d86fe016",
   "metadata": {},
   "outputs": [],
   "source": [
    "score_predict = line_fitter.predict(df['승하차총승객수'].values.reshape(-1,1))\n",
    "#승하차 총 승객수와 노선수간의 상관관계를 나타내는 회귀식"
   ]
  },
  {
   "cell_type": "code",
   "execution_count": 32,
   "id": "05df084b",
   "metadata": {},
   "outputs": [
    {
     "data": {
      "image/png": "[encoded data removed]",
      "text/plain": [
       "<Figure size 432x288 with 1 Axes>"
      ]
     },
     "metadata": {
      "needs_background": "light"
     },
     "output_type": "display_data"
    },
    {
     "name": "stdout",
     "output_type": "stream",
     "text": [
      "[ 78.27655142  59.90099278  64.91915186  49.75381594  49.4688343\n",
      "  76.5029851   60.78033653  88.26632797  71.71802979  55.11101844\n",
      "  66.97783351  76.32592649  83.76979688  74.77675696  62.60122989\n",
      "  70.80974168  72.69969263  59.8061883   83.00455942  76.89629642\n",
      " 104.86996916  97.9123206  105.71334971  81.45676024  50.68153398]\n"
     ]
    }
   ],
   "source": [
    "plt.plot(df['승하차총승객수'], df['노선수'], 'o')\n",
    "plt.plot(df['승하차총승객수'], score_predict)\n",
    "plt.show()\n",
    "\n",
    "print(score_predict)"
   ]
  },
  {
   "cell_type": "markdown",
   "id": "31c11b1b",
   "metadata": {},
   "source": [
    "## 성능 평가"
   ]
  },
  {
   "cell_type": "code",
   "execution_count": 33,
   "id": "d03553c0",
   "metadata": {},
   "outputs": [],
   "source": [
    "from sklearn.metrics import mean_squared_error"
   ]
  },
  {
   "cell_type": "code",
   "execution_count": 34,
   "id": "52ab691e",
   "metadata": {},
   "outputs": [
    {
     "name": "stdout",
     "output_type": "stream",
     "text": [
      "Mean_Squared_Error :  307.3561996936817\n"
     ]
    }
   ],
   "source": [
    "print(\"Mean_Squared_Error : \", mean_squared_error(score_predict, df['노선수']))"
   ]
  },
  {
   "cell_type": "code",
   "execution_count": 35,
   "id": "90d8b10c",
   "metadata": {},
   "outputs": [
    {
     "name": "stdout",
     "output_type": "stream",
     "text": [
      "score:  0.4351664682661629\n"
     ]
    }
   ],
   "source": [
    "print('score: ', line_fitter.score(df['승하차총승객수'].values.reshape(-1,1), df['노선수']))"
   ]
  },
  {
   "cell_type": "markdown",
   "id": "f569bdd9",
   "metadata": {},
   "source": [
    "## MSE 약397.3\n",
    "## 정확도 약43.5% "
   ]
  },
  {
   "cell_type": "markdown",
   "id": "bb355954",
   "metadata": {},
   "source": [
    "# Hold-Out 을 통한 성능평가"
   ]
  },
  {
   "cell_type": "code",
   "execution_count": 36,
   "id": "a8f59857",
   "metadata": {},
   "outputs": [],
   "source": [
    "from sklearn.model_selection import train_test_split"
   ]
  },
  {
   "cell_type": "code",
   "execution_count": 44,
   "id": "d4211b9c",
   "metadata": {
    "scrolled": true
   },
   "outputs": [],
   "source": [
    "X = df['승하차총승객수'].values.reshape(-1,1)\n",
    "y = df['노선수']\n",
    "\n",
    "X_train, X_test, y_train, y_test = train_test_split(X, y, test_size = 0.3)\n",
    "\n",
    "# 승하차 총 승객수에 따른 노선수\n",
    "# 7대3 으로 train, test 데이터 분류"
   ]
  },
  {
   "cell_type": "markdown",
   "id": "647d4cdf",
   "metadata": {},
   "source": [
    "7대 3으로 나누어 진행했습니다."
   ]
  },
  {
   "cell_type": "code",
   "execution_count": 55,
   "id": "90912efa",
   "metadata": {},
   "outputs": [
    {
     "name": "stdout",
     "output_type": "stream",
     "text": [
      "score:  0.4373718556547451\n"
     ]
    }
   ],
   "source": [
    "print('score: ', line_fitter.score(X_train, y_train))"
   ]
  },
  {
   "cell_type": "markdown",
   "id": "6e22006f",
   "metadata": {},
   "source": [
    "train 데이터"
   ]
  },
  {
   "cell_type": "code",
   "execution_count": 56,
   "id": "36257d64",
   "metadata": {},
   "outputs": [
    {
     "name": "stdout",
     "output_type": "stream",
     "text": [
      "score:  0.4220260697745237\n"
     ]
    }
   ],
   "source": [
    "print('score: ', line_fitter.score(X_test, y_test))"
   ]
  },
  {
   "cell_type": "markdown",
   "id": "508875ab",
   "metadata": {},
   "source": [
    "test 데이터"
   ]
  },
  {
   "cell_type": "markdown",
   "id": "1d3f065b",
   "metadata": {
    "id": "1d3f065b"
   },
   "source": [
    "### HeatMap으로 시각화 후 나름의 분석을 해보세요.\n",
    "\n"
   ]
  },
  {
   "cell_type": "code",
   "execution_count": 43,
   "id": "269c049e",
   "metadata": {
    "id": "269c049e"
   },
   "outputs": [
    {
     "data": {
      "image/png": "[encoded data removed]",
      "text/plain": [
       "<Figure size 432x288 with 2 Axes>"
      ]
     },
     "metadata": {
      "needs_background": "light"
     },
     "output_type": "display_data"
    }
   ],
   "source": [
    "# 아래에 실습코드를 작성하고 상관계수를 확인 및 시각화 합니다.\n",
    "#df.drop(labels=['승차총승객수','하차총승객수','승차평균승객수','하차평균승객수'],axis=1,inplace=True)\n",
    "\n",
    "sns.heatmap(df.corr(), annot = True)\n",
    "plt.show()"
   ]
  },
  {
   "cell_type": "markdown",
   "id": "20e08293",
   "metadata": {
    "id": "20e08293"
   },
   "source": [
    "## 4.관계 정리"
   ]
  },
  {
   "cell_type": "markdown",
   "id": "b11433ac",
   "metadata": {
    "id": "b11433ac"
   },
   "source": [
    "### 1) 강한 관계의 변수"
   ]
  },
  {
   "cell_type": "markdown",
   "id": "ae622498",
   "metadata": {
    "id": "ae622498"
   },
   "source": []
  },
  {
   "cell_type": "markdown",
   "id": "3101b64b",
   "metadata": {
    "id": "3101b64b"
   },
   "source": [
    "### 2) 약한 관계의 변수"
   ]
  },
  {
   "cell_type": "markdown",
   "id": "7a7f579d",
   "metadata": {
    "id": "7a7f579d"
   },
   "source": []
  },
  {
   "cell_type": "markdown",
   "id": "644198b7",
   "metadata": {
    "id": "644198b7"
   },
   "source": [
    "## 5.솔루션 도출\n",
    "\n",
    "### 어느 구에 버스 노선 또는 정류장이 제일 필요한가요? 그 이유는?"
   ]
  },
  {
   "cell_type": "markdown",
   "id": "783e8346",
   "metadata": {
    "id": "783e8346"
   },
   "source": []
  }
 ],
 "metadata": {
  "colab": {
   "collapsed_sections": [],
   "provenance": [],
   "toc_visible": true
  },
  "kernelspec": {
   "display_name": "Python 3 (ipykernel)",
   "language": "python",
   "name": "python3"
  },
  "language_info": {
   "codemirror_mode": {
    "name": "ipython",
    "version": 3
   },
   "file_extension": ".py",
   "mimetype": "text/x-python",
   "name": "python",
   "nbconvert_exporter": "python",
   "pygments_lexer": "ipython3",
   "version": "3.7.0"
  },
  "vscode": {
   "interpreter": {
    "hash": "f08154012ddadd8e950e6e9e035c7a7b32c136e7647e9b7c77e02eb723a8bedb"
   }
  }
 },
 "nbformat": 4,
 "nbformat_minor": 5
}
