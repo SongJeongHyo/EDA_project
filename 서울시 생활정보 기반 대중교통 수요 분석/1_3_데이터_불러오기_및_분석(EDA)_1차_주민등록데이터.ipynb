{
 "cells": [
  {
   "cell_type": "markdown",
   "id": "boxed-jamaica",
   "metadata": {
    "id": "boxed-jamaica"
   },
   "source": [
    "# 안녕하세요^^ \n",
    "## '서울시 생활정보 기반 대중교통 수요 분석 ' 과정에 오신 여러분을 환영합니다.\n",
    "* 본 과정에서는 실제 사례와 데이터를 기반으로 문제를 해결하는 전체 과정을 자기 주도형 실습으로 진행해볼 예정입니다.\n",
    "* 앞선 교육과정을 정리하는 마음과 지금까지 배운 내용을 바탕으로 문제 해결을 해볼게요!\n",
    "* 미니 프로젝트를 통한 문제 해결 과정 'A에서 Z까지', 지금부터 시작합니다!"
   ]
  },
  {
   "cell_type": "markdown",
   "id": "f2bc4fa5",
   "metadata": {
    "id": "f2bc4fa5"
   },
   "source": [
    "# 데이터 분석부터 먼저 시작해보겠습니다.\n",
    "### \"구별 등록인구 데이터\" 를 확인해 보도록 하겠습니다"
   ]
  },
  {
   "cell_type": "code",
   "execution_count": 1,
   "id": "4c6ced42",
   "metadata": {
    "id": "4c6ced42"
   },
   "outputs": [],
   "source": [
    "# 필요 라이브러리부터 설치합니다.\n",
    "#%pip install pandas seaborn"
   ]
  },
  {
   "cell_type": "markdown",
   "id": "revolutionary-farmer",
   "metadata": {
    "id": "revolutionary-farmer"
   },
   "source": [
    "## 기본전제\n",
    "* 처음에 제공되는 데이터는 'raw_data' 폴더에 있습니다.\n",
    "\n",
    "[기본 데이터]\n",
    "* 1.3 seoul_people.csv\n",
    "\n",
    "[데이터 소개]\n",
    "* 서울 시 주민 등록 데이터\n",
    "\n",
    "[변수 소개]\n",
    "* 한국인 / 등록 외국인 / 합계 / 세대수 / 고령인구수"
   ]
  },
  {
   "cell_type": "markdown",
   "id": "warming-gentleman",
   "metadata": {
    "id": "warming-gentleman"
   },
   "source": [
    "# 1.데이터 불러오기\n",
    "### 모든 미니 프로젝트의 시작은 '데이터 불러오기' 부터라고 할 수 있습니다.\n",
    "+ KeyPoint : 불러오고자 하는 데이터에 따라 자유롭게 변수로 지정할 수 있다."
   ]
  },
  {
   "cell_type": "markdown",
   "id": "measured-administration",
   "metadata": {
    "id": "measured-administration"
   },
   "source": [
    "###  데이터 프레임을 불러오고 변수로 저장(여기서는 CSV 기준으로 진행)\n",
    "* csv : pd.read_csv(\"파일이름. csv\")\n",
    "* txt : pd.read_csv(\"파일이름. csv\", sep=\"구분자\")\n",
    "* xlsx : pd.read_excel('파일이름.xlsx')\n",
    "* pickle : pd.read_pickle(\"파일이름.pkl\") <br>\n",
    " [참고] pickle은 파이썬의 모든 객체를 파일로 저장할 수 있는 방법으로 DataFrame,List,Dict 등 모든 객체 저장 가능(특히 sklearn라이브러리를 통해 모델을 학습시키고, 저장할 때 많이 사용)"
   ]
  },
  {
   "cell_type": "markdown",
   "id": "vocational-animal",
   "metadata": {
    "id": "vocational-animal"
   },
   "source": [
    "#### [실습문제1] 데이터 로딩\n",
    "* '1.3 seoul_people.csv'파일을 'seoul_people' 변수에 저장하고 그 Shape을 확인하세요.\n",
    "    * 데이터 파일 로딩시 참고 사항 \n",
    "        * 구분자(sep)는 '\\t' 입니다\n",
    "        * cp949 인코더를 사용해 주세요"
   ]
  },
  {
   "cell_type": "code",
   "execution_count": 2,
   "id": "1564e4fd",
   "metadata": {
    "id": "1564e4fd"
   },
   "outputs": [],
   "source": [
    "import pandas as pd"
   ]
  },
  {
   "cell_type": "code",
   "execution_count": 3,
   "id": "saving-slope",
   "metadata": {
    "id": "saving-slope"
   },
   "outputs": [],
   "source": [
    "# 아래에 실습코드를 작성하고 결과를 확인합니다.\n",
    "seoul_people = pd.read_csv('1.3 seoul_people.csv', sep=\"\\t\", encoding = \"cp949\")"
   ]
  },
  {
   "cell_type": "code",
   "execution_count": 4,
   "id": "funny-subcommittee",
   "metadata": {
    "id": "funny-subcommittee"
   },
   "outputs": [
    {
     "data": {
      "text/plain": [
       "(28, 14)"
      ]
     },
     "execution_count": 4,
     "metadata": {},
     "output_type": "execute_result"
    }
   ],
   "source": [
    "# 데이터 프레임의 Shape을 확인합니다.\n",
    "seoul_people.shape"
   ]
  },
  {
   "cell_type": "markdown",
   "id": "annoying-trout",
   "metadata": {
    "id": "annoying-trout"
   },
   "source": [
    "# 2.기본 정보 확인 및 클렌징\n",
    "\n",
    "+ 데이터 클렌징 : 결측치, 이상치 등을 제거하여 데이터 분석 결과가 왜곡 되는 문제를 방지하기 위한 정제 과정"
   ]
  },
  {
   "cell_type": "markdown",
   "id": "romantic-johnson",
   "metadata": {
    "id": "romantic-johnson"
   },
   "source": [
    "#### [실습문제2] 기본 정보 확인하기\n",
    "* 'seoul_people' 데이터의 정보를 확인해보세요.\n",
    "* 'describe', 'info', 'head' 등 전부 활용해 보겠습니다."
   ]
  },
  {
   "cell_type": "code",
   "execution_count": 5,
   "id": "demographic-battery",
   "metadata": {
    "id": "demographic-battery"
   },
   "outputs": [
    {
     "name": "stdout",
     "output_type": "stream",
     "text": [
      "<class 'pandas.core.frame.DataFrame'>\n",
      "RangeIndex: 28 entries, 0 to 27\n",
      "Data columns (total 14 columns):\n",
      " #   Column    Non-Null Count  Dtype \n",
      "---  ------    --------------  ----- \n",
      " 0   기간        28 non-null     object\n",
      " 1   자치구       28 non-null     object\n",
      " 2   세대        28 non-null     object\n",
      " 3   인구        28 non-null     object\n",
      " 4   인구.1      28 non-null     object\n",
      " 5   인구.2      28 non-null     object\n",
      " 6   인구.3      28 non-null     object\n",
      " 7   인구.4      28 non-null     object\n",
      " 8   인구.5      28 non-null     object\n",
      " 9   인구.6      28 non-null     object\n",
      " 10  인구.7      28 non-null     object\n",
      " 11  인구.8      28 non-null     object\n",
      " 12  세대당인구     28 non-null     object\n",
      " 13  65세이상고령자  28 non-null     object\n",
      "dtypes: object(14)\n",
      "memory usage: 3.2+ KB\n"
     ]
    }
   ],
   "source": [
    "# 아래에 실습코드를 작성하고 결과를 확인합니다.\n",
    "seoul_people.info()"
   ]
  },
  {
   "cell_type": "code",
   "execution_count": 6,
   "id": "940a114a",
   "metadata": {
    "id": "940a114a"
   },
   "outputs": [
    {
     "data": {
      "text/html": [
       "<div>\n",
       "<style scoped>\n",
       "    .dataframe tbody tr th:only-of-type {\n",
       "        vertical-align: middle;\n",
       "    }\n",
       "\n",
       "    .dataframe tbody tr th {\n",
       "        vertical-align: top;\n",
       "    }\n",
       "\n",
       "    .dataframe thead th {\n",
       "        text-align: right;\n",
       "    }\n",
       "</style>\n",
       "<table border=\"1\" class=\"dataframe\">\n",
       "  <thead>\n",
       "    <tr style=\"text-align: right;\">\n",
       "      <th></th>\n",
       "      <th>기간</th>\n",
       "      <th>자치구</th>\n",
       "      <th>세대</th>\n",
       "      <th>인구</th>\n",
       "      <th>인구.1</th>\n",
       "      <th>인구.2</th>\n",
       "      <th>인구.3</th>\n",
       "      <th>인구.4</th>\n",
       "      <th>인구.5</th>\n",
       "      <th>인구.6</th>\n",
       "      <th>인구.7</th>\n",
       "      <th>인구.8</th>\n",
       "      <th>세대당인구</th>\n",
       "      <th>65세이상고령자</th>\n",
       "    </tr>\n",
       "  </thead>\n",
       "  <tbody>\n",
       "    <tr>\n",
       "      <th>count</th>\n",
       "      <td>28</td>\n",
       "      <td>28</td>\n",
       "      <td>28</td>\n",
       "      <td>28</td>\n",
       "      <td>28</td>\n",
       "      <td>28</td>\n",
       "      <td>28</td>\n",
       "      <td>28</td>\n",
       "      <td>28</td>\n",
       "      <td>28</td>\n",
       "      <td>28</td>\n",
       "      <td>28</td>\n",
       "      <td>28</td>\n",
       "      <td>28</td>\n",
       "    </tr>\n",
       "    <tr>\n",
       "      <th>unique</th>\n",
       "      <td>2</td>\n",
       "      <td>27</td>\n",
       "      <td>27</td>\n",
       "      <td>28</td>\n",
       "      <td>28</td>\n",
       "      <td>28</td>\n",
       "      <td>28</td>\n",
       "      <td>28</td>\n",
       "      <td>28</td>\n",
       "      <td>28</td>\n",
       "      <td>28</td>\n",
       "      <td>28</td>\n",
       "      <td>24</td>\n",
       "      <td>27</td>\n",
       "    </tr>\n",
       "    <tr>\n",
       "      <th>top</th>\n",
       "      <td>2022.1/4</td>\n",
       "      <td>자치구</td>\n",
       "      <td>세대</td>\n",
       "      <td>400241</td>\n",
       "      <td>212277</td>\n",
       "      <td>201743</td>\n",
       "      <td>532577</td>\n",
       "      <td>226203</td>\n",
       "      <td>176361</td>\n",
       "      <td>14610</td>\n",
       "      <td>5179</td>\n",
       "      <td>여자</td>\n",
       "      <td>2.07</td>\n",
       "      <td>65세이상고령자</td>\n",
       "    </tr>\n",
       "    <tr>\n",
       "      <th>freq</th>\n",
       "      <td>26</td>\n",
       "      <td>2</td>\n",
       "      <td>2</td>\n",
       "      <td>1</td>\n",
       "      <td>1</td>\n",
       "      <td>1</td>\n",
       "      <td>1</td>\n",
       "      <td>1</td>\n",
       "      <td>1</td>\n",
       "      <td>1</td>\n",
       "      <td>1</td>\n",
       "      <td>1</td>\n",
       "      <td>2</td>\n",
       "      <td>2</td>\n",
       "    </tr>\n",
       "  </tbody>\n",
       "</table>\n",
       "</div>"
      ],
      "text/plain": [
       "              기간  자치구  세대      인구    인구.1    인구.2    인구.3    인구.4    인구.5  \\\n",
       "count         28   28  28      28      28      28      28      28      28   \n",
       "unique         2   27  27      28      28      28      28      28      28   \n",
       "top     2022.1/4  자치구  세대  400241  212277  201743  532577  226203  176361   \n",
       "freq          26    2   2       1       1       1       1       1       1   \n",
       "\n",
       "         인구.6  인구.7 인구.8 세대당인구  65세이상고령자  \n",
       "count      28    28   28    28        28  \n",
       "unique     28    28   28    24        27  \n",
       "top     14610  5179   여자  2.07  65세이상고령자  \n",
       "freq        1     1    1     2         2  "
      ]
     },
     "execution_count": 6,
     "metadata": {},
     "output_type": "execute_result"
    }
   ],
   "source": [
    "# 아래에 실습코드를 작성하고 결과를 확인합니다.\n",
    "seoul_people.describe()"
   ]
  },
  {
   "cell_type": "code",
   "execution_count": 7,
   "id": "e3a09520",
   "metadata": {
    "scrolled": false
   },
   "outputs": [
    {
     "data": {
      "text/html": [
       "<div>\n",
       "<style scoped>\n",
       "    .dataframe tbody tr th:only-of-type {\n",
       "        vertical-align: middle;\n",
       "    }\n",
       "\n",
       "    .dataframe tbody tr th {\n",
       "        vertical-align: top;\n",
       "    }\n",
       "\n",
       "    .dataframe thead th {\n",
       "        text-align: right;\n",
       "    }\n",
       "</style>\n",
       "<table border=\"1\" class=\"dataframe\">\n",
       "  <thead>\n",
       "    <tr style=\"text-align: right;\">\n",
       "      <th></th>\n",
       "      <th>기간</th>\n",
       "      <th>자치구</th>\n",
       "      <th>세대</th>\n",
       "      <th>인구</th>\n",
       "      <th>인구.1</th>\n",
       "      <th>인구.2</th>\n",
       "      <th>인구.3</th>\n",
       "      <th>인구.4</th>\n",
       "      <th>인구.5</th>\n",
       "      <th>인구.6</th>\n",
       "      <th>인구.7</th>\n",
       "      <th>인구.8</th>\n",
       "      <th>세대당인구</th>\n",
       "      <th>65세이상고령자</th>\n",
       "    </tr>\n",
       "  </thead>\n",
       "  <tbody>\n",
       "    <tr>\n",
       "      <th>0</th>\n",
       "      <td>기간</td>\n",
       "      <td>자치구</td>\n",
       "      <td>세대</td>\n",
       "      <td>합계</td>\n",
       "      <td>합계</td>\n",
       "      <td>합계</td>\n",
       "      <td>한국인</td>\n",
       "      <td>한국인</td>\n",
       "      <td>한국인</td>\n",
       "      <td>등록외국인</td>\n",
       "      <td>등록외국인</td>\n",
       "      <td>등록외국인</td>\n",
       "      <td>세대당인구</td>\n",
       "      <td>65세이상고령자</td>\n",
       "    </tr>\n",
       "    <tr>\n",
       "      <th>1</th>\n",
       "      <td>기간</td>\n",
       "      <td>자치구</td>\n",
       "      <td>세대</td>\n",
       "      <td>계</td>\n",
       "      <td>남자</td>\n",
       "      <td>여자</td>\n",
       "      <td>계</td>\n",
       "      <td>남자</td>\n",
       "      <td>여자</td>\n",
       "      <td>계</td>\n",
       "      <td>남자</td>\n",
       "      <td>여자</td>\n",
       "      <td>세대당인구</td>\n",
       "      <td>65세이상고령자</td>\n",
       "    </tr>\n",
       "    <tr>\n",
       "      <th>2</th>\n",
       "      <td>2022.1/4</td>\n",
       "      <td>합계</td>\n",
       "      <td>4451444</td>\n",
       "      <td>9732617</td>\n",
       "      <td>4716704</td>\n",
       "      <td>5015913</td>\n",
       "      <td>9506778</td>\n",
       "      <td>4613910</td>\n",
       "      <td>4892868</td>\n",
       "      <td>225839</td>\n",
       "      <td>102794</td>\n",
       "      <td>123045</td>\n",
       "      <td>2.14</td>\n",
       "      <td>1628980</td>\n",
       "    </tr>\n",
       "    <tr>\n",
       "      <th>3</th>\n",
       "      <td>2022.1/4</td>\n",
       "      <td>종로구</td>\n",
       "      <td>73766</td>\n",
       "      <td>153684</td>\n",
       "      <td>74018</td>\n",
       "      <td>79666</td>\n",
       "      <td>144275</td>\n",
       "      <td>69911</td>\n",
       "      <td>74364</td>\n",
       "      <td>9409</td>\n",
       "      <td>4107</td>\n",
       "      <td>5302</td>\n",
       "      <td>1.96</td>\n",
       "      <td>28064</td>\n",
       "    </tr>\n",
       "    <tr>\n",
       "      <th>4</th>\n",
       "      <td>2022.1/4</td>\n",
       "      <td>중구</td>\n",
       "      <td>63767</td>\n",
       "      <td>131450</td>\n",
       "      <td>63869</td>\n",
       "      <td>67581</td>\n",
       "      <td>122173</td>\n",
       "      <td>59448</td>\n",
       "      <td>62725</td>\n",
       "      <td>9277</td>\n",
       "      <td>4421</td>\n",
       "      <td>4856</td>\n",
       "      <td>1.92</td>\n",
       "      <td>24742</td>\n",
       "    </tr>\n",
       "  </tbody>\n",
       "</table>\n",
       "</div>"
      ],
      "text/plain": [
       "         기간  자치구       세대       인구     인구.1     인구.2     인구.3     인구.4  \\\n",
       "0        기간  자치구       세대       합계       합계       합계      한국인      한국인   \n",
       "1        기간  자치구       세대        계       남자       여자        계       남자   \n",
       "2  2022.1/4   합계  4451444  9732617  4716704  5015913  9506778  4613910   \n",
       "3  2022.1/4  종로구    73766   153684    74018    79666   144275    69911   \n",
       "4  2022.1/4   중구    63767   131450    63869    67581   122173    59448   \n",
       "\n",
       "      인구.5    인구.6    인구.7    인구.8  세대당인구  65세이상고령자  \n",
       "0      한국인   등록외국인   등록외국인   등록외국인  세대당인구  65세이상고령자  \n",
       "1       여자       계      남자      여자  세대당인구  65세이상고령자  \n",
       "2  4892868  225839  102794  123045   2.14   1628980  \n",
       "3    74364    9409    4107    5302   1.96     28064  \n",
       "4    62725    9277    4421    4856   1.92     24742  "
      ]
     },
     "execution_count": 7,
     "metadata": {},
     "output_type": "execute_result"
    }
   ],
   "source": [
    "seoul_people.head()"
   ]
  },
  {
   "cell_type": "code",
   "execution_count": 9,
   "id": "4f03456a",
   "metadata": {},
   "outputs": [],
   "source": [
    "seoul_people = seoul_people.drop(0)\n",
    "seoul_people = seoul_people.drop(1)\n",
    "seoul_people = seoul_people.drop(2)"
   ]
  },
  {
   "cell_type": "code",
   "execution_count": 10,
   "id": "2a659153",
   "metadata": {},
   "outputs": [],
   "source": [
    "seoul_people.rename(columns = {'인구' : '인구 합계'}, inplace = True)\n",
    "seoul_people.rename(columns = {'인구.1' : '남자 합계'}, inplace = True)\n",
    "seoul_people.rename(columns = {'인구.2' : '여자 합계'}, inplace = True)\n",
    "seoul_people.rename(columns = {'인구.3' : '한국인 합계'}, inplace = True)\n",
    "seoul_people.rename(columns = {'인구.4' : '힌국인 남자 합계'}, inplace = True)\n",
    "seoul_people.rename(columns = {'인구.5' : '한국인 여자 합계'}, inplace = True)\n",
    "seoul_people.rename(columns = {'인구.6' : '외국인 합계'}, inplace = True)\n",
    "seoul_people.rename(columns = {'인구.7' : '외국인 남자 합계'}, inplace = True)\n",
    "seoul_people.rename(columns = {'인구.8' : '외국인 여자 합계'}, inplace = True)"
   ]
  },
  {
   "cell_type": "code",
   "execution_count": 11,
   "id": "90b3c7d4",
   "metadata": {
    "scrolled": true
   },
   "outputs": [
    {
     "data": {
      "text/html": [
       "<div>\n",
       "<style scoped>\n",
       "    .dataframe tbody tr th:only-of-type {\n",
       "        vertical-align: middle;\n",
       "    }\n",
       "\n",
       "    .dataframe tbody tr th {\n",
       "        vertical-align: top;\n",
       "    }\n",
       "\n",
       "    .dataframe thead th {\n",
       "        text-align: right;\n",
       "    }\n",
       "</style>\n",
       "<table border=\"1\" class=\"dataframe\">\n",
       "  <thead>\n",
       "    <tr style=\"text-align: right;\">\n",
       "      <th></th>\n",
       "      <th>기간</th>\n",
       "      <th>자치구</th>\n",
       "      <th>세대</th>\n",
       "      <th>인구 합계</th>\n",
       "      <th>남자 합계</th>\n",
       "      <th>여자 합계</th>\n",
       "      <th>한국인 합계</th>\n",
       "      <th>힌국인 남자 합계</th>\n",
       "      <th>한국인 여자 합계</th>\n",
       "      <th>외국인 합계</th>\n",
       "      <th>외국인 남자 합계</th>\n",
       "      <th>외국인 여자 합계</th>\n",
       "      <th>세대당인구</th>\n",
       "      <th>65세이상고령자</th>\n",
       "    </tr>\n",
       "  </thead>\n",
       "  <tbody>\n",
       "    <tr>\n",
       "      <th>3</th>\n",
       "      <td>2022.1/4</td>\n",
       "      <td>종로구</td>\n",
       "      <td>73766</td>\n",
       "      <td>153684</td>\n",
       "      <td>74018</td>\n",
       "      <td>79666</td>\n",
       "      <td>144275</td>\n",
       "      <td>69911</td>\n",
       "      <td>74364</td>\n",
       "      <td>9409</td>\n",
       "      <td>4107</td>\n",
       "      <td>5302</td>\n",
       "      <td>1.96</td>\n",
       "      <td>28064</td>\n",
       "    </tr>\n",
       "    <tr>\n",
       "      <th>4</th>\n",
       "      <td>2022.1/4</td>\n",
       "      <td>중구</td>\n",
       "      <td>63767</td>\n",
       "      <td>131450</td>\n",
       "      <td>63869</td>\n",
       "      <td>67581</td>\n",
       "      <td>122173</td>\n",
       "      <td>59448</td>\n",
       "      <td>62725</td>\n",
       "      <td>9277</td>\n",
       "      <td>4421</td>\n",
       "      <td>4856</td>\n",
       "      <td>1.92</td>\n",
       "      <td>24742</td>\n",
       "    </tr>\n",
       "    <tr>\n",
       "      <th>5</th>\n",
       "      <td>2022.1/4</td>\n",
       "      <td>용산구</td>\n",
       "      <td>111207</td>\n",
       "      <td>236518</td>\n",
       "      <td>114571</td>\n",
       "      <td>121947</td>\n",
       "      <td>222169</td>\n",
       "      <td>106735</td>\n",
       "      <td>115434</td>\n",
       "      <td>14349</td>\n",
       "      <td>7836</td>\n",
       "      <td>6513</td>\n",
       "      <td>2</td>\n",
       "      <td>39461</td>\n",
       "    </tr>\n",
       "    <tr>\n",
       "      <th>6</th>\n",
       "      <td>2022.1/4</td>\n",
       "      <td>성동구</td>\n",
       "      <td>134533</td>\n",
       "      <td>291609</td>\n",
       "      <td>141662</td>\n",
       "      <td>149947</td>\n",
       "      <td>285073</td>\n",
       "      <td>138847</td>\n",
       "      <td>146226</td>\n",
       "      <td>6536</td>\n",
       "      <td>2815</td>\n",
       "      <td>3721</td>\n",
       "      <td>2.12</td>\n",
       "      <td>46896</td>\n",
       "    </tr>\n",
       "    <tr>\n",
       "      <th>7</th>\n",
       "      <td>2022.1/4</td>\n",
       "      <td>광진구</td>\n",
       "      <td>169483</td>\n",
       "      <td>353110</td>\n",
       "      <td>169525</td>\n",
       "      <td>183585</td>\n",
       "      <td>340707</td>\n",
       "      <td>164346</td>\n",
       "      <td>176361</td>\n",
       "      <td>12403</td>\n",
       "      <td>5179</td>\n",
       "      <td>7224</td>\n",
       "      <td>2.01</td>\n",
       "      <td>52604</td>\n",
       "    </tr>\n",
       "  </tbody>\n",
       "</table>\n",
       "</div>"
      ],
      "text/plain": [
       "         기간  자치구      세대   인구 합계   남자 합계   여자 합계  한국인 합계 힌국인 남자 합계 한국인 여자 합계  \\\n",
       "3  2022.1/4  종로구   73766  153684   74018   79666  144275     69911     74364   \n",
       "4  2022.1/4   중구   63767  131450   63869   67581  122173     59448     62725   \n",
       "5  2022.1/4  용산구  111207  236518  114571  121947  222169    106735    115434   \n",
       "6  2022.1/4  성동구  134533  291609  141662  149947  285073    138847    146226   \n",
       "7  2022.1/4  광진구  169483  353110  169525  183585  340707    164346    176361   \n",
       "\n",
       "  외국인 합계 외국인 남자 합계 외국인 여자 합계 세대당인구 65세이상고령자  \n",
       "3   9409      4107      5302  1.96    28064  \n",
       "4   9277      4421      4856  1.92    24742  \n",
       "5  14349      7836      6513     2    39461  \n",
       "6   6536      2815      3721  2.12    46896  \n",
       "7  12403      5179      7224  2.01    52604  "
      ]
     },
     "execution_count": 11,
     "metadata": {},
     "output_type": "execute_result"
    }
   ],
   "source": [
    "seoul_people.head()"
   ]
  },
  {
   "cell_type": "code",
   "execution_count": 13,
   "id": "6ca16f99",
   "metadata": {
    "scrolled": true
   },
   "outputs": [],
   "source": [
    "seoul_people = seoul_people.astype({\"세대\":'int'})\n",
    "seoul_people = seoul_people.astype({\"인구 합계\":'int'})\n",
    "seoul_people = seoul_people.astype({\"남자 합계\":'int'})\n",
    "seoul_people = seoul_people.astype({\"여자 합계\":'int'})\n",
    "seoul_people = seoul_people.astype({\"한국인 합계\":'int'})\n",
    "seoul_people = seoul_people.astype({\"힌국인 남자 합계\":'int'})\n",
    "seoul_people = seoul_people.astype({\"한국인 여자 합계\":'int'})\n",
    "seoul_people = seoul_people.astype({\"외국인 합계\":'int'})\n",
    "seoul_people = seoul_people.astype({\"외국인 남자 합계\":'int'})\n",
    "seoul_people = seoul_people.astype({\"외국인 여자 합계\":'int'})\n",
    "seoul_people = seoul_people.astype({\"세대당인구\":'float'})\n",
    "seoul_people = seoul_people.astype({\"65세이상고령자\":'int'})"
   ]
  },
  {
   "cell_type": "markdown",
   "id": "003322b3",
   "metadata": {
    "id": "003322b3"
   },
   "source": [
    "#### [실습문제3] 데이터 확인 및 처리\n",
    "\n",
    "* head 와 tail 을 보고, 어느 데이터만 가져와야 할지 생각 해 봅시다."
   ]
  },
  {
   "cell_type": "code",
   "execution_count": 14,
   "id": "28c91276",
   "metadata": {
    "id": "28c91276"
   },
   "outputs": [
    {
     "data": {
      "text/html": [
       "<div>\n",
       "<style scoped>\n",
       "    .dataframe tbody tr th:only-of-type {\n",
       "        vertical-align: middle;\n",
       "    }\n",
       "\n",
       "    .dataframe tbody tr th {\n",
       "        vertical-align: top;\n",
       "    }\n",
       "\n",
       "    .dataframe thead th {\n",
       "        text-align: right;\n",
       "    }\n",
       "</style>\n",
       "<table border=\"1\" class=\"dataframe\">\n",
       "  <thead>\n",
       "    <tr style=\"text-align: right;\">\n",
       "      <th></th>\n",
       "      <th>기간</th>\n",
       "      <th>자치구</th>\n",
       "      <th>세대</th>\n",
       "      <th>인구 합계</th>\n",
       "      <th>남자 합계</th>\n",
       "      <th>여자 합계</th>\n",
       "      <th>한국인 합계</th>\n",
       "      <th>힌국인 남자 합계</th>\n",
       "      <th>한국인 여자 합계</th>\n",
       "      <th>외국인 합계</th>\n",
       "      <th>외국인 남자 합계</th>\n",
       "      <th>외국인 여자 합계</th>\n",
       "      <th>세대당인구</th>\n",
       "      <th>65세이상고령자</th>\n",
       "    </tr>\n",
       "  </thead>\n",
       "  <tbody>\n",
       "    <tr>\n",
       "      <th>23</th>\n",
       "      <td>2022.1/4</td>\n",
       "      <td>관악구</td>\n",
       "      <td>279353</td>\n",
       "      <td>500336</td>\n",
       "      <td>250450</td>\n",
       "      <td>249886</td>\n",
       "      <td>486375</td>\n",
       "      <td>244409</td>\n",
       "      <td>241966</td>\n",
       "      <td>13961</td>\n",
       "      <td>6041</td>\n",
       "      <td>7920</td>\n",
       "      <td>1.74</td>\n",
       "      <td>80686</td>\n",
       "    </tr>\n",
       "    <tr>\n",
       "      <th>24</th>\n",
       "      <td>2022.1/4</td>\n",
       "      <td>서초구</td>\n",
       "      <td>169895</td>\n",
       "      <td>413677</td>\n",
       "      <td>197665</td>\n",
       "      <td>216012</td>\n",
       "      <td>409823</td>\n",
       "      <td>195806</td>\n",
       "      <td>214017</td>\n",
       "      <td>3854</td>\n",
       "      <td>1859</td>\n",
       "      <td>1995</td>\n",
       "      <td>2.41</td>\n",
       "      <td>61404</td>\n",
       "    </tr>\n",
       "    <tr>\n",
       "      <th>25</th>\n",
       "      <td>2022.1/4</td>\n",
       "      <td>강남구</td>\n",
       "      <td>234612</td>\n",
       "      <td>537338</td>\n",
       "      <td>257096</td>\n",
       "      <td>280242</td>\n",
       "      <td>532577</td>\n",
       "      <td>254866</td>\n",
       "      <td>277711</td>\n",
       "      <td>4761</td>\n",
       "      <td>2230</td>\n",
       "      <td>2531</td>\n",
       "      <td>2.27</td>\n",
       "      <td>79575</td>\n",
       "    </tr>\n",
       "    <tr>\n",
       "      <th>26</th>\n",
       "      <td>2022.1/4</td>\n",
       "      <td>송파구</td>\n",
       "      <td>285106</td>\n",
       "      <td>668261</td>\n",
       "      <td>321963</td>\n",
       "      <td>346298</td>\n",
       "      <td>662607</td>\n",
       "      <td>319407</td>\n",
       "      <td>343200</td>\n",
       "      <td>5654</td>\n",
       "      <td>2556</td>\n",
       "      <td>3098</td>\n",
       "      <td>2.32</td>\n",
       "      <td>99854</td>\n",
       "    </tr>\n",
       "    <tr>\n",
       "      <th>27</th>\n",
       "      <td>2022.1/4</td>\n",
       "      <td>강동구</td>\n",
       "      <td>201926</td>\n",
       "      <td>465097</td>\n",
       "      <td>227891</td>\n",
       "      <td>237206</td>\n",
       "      <td>461300</td>\n",
       "      <td>226203</td>\n",
       "      <td>235097</td>\n",
       "      <td>3797</td>\n",
       "      <td>1688</td>\n",
       "      <td>2109</td>\n",
       "      <td>2.28</td>\n",
       "      <td>75477</td>\n",
       "    </tr>\n",
       "  </tbody>\n",
       "</table>\n",
       "</div>"
      ],
      "text/plain": [
       "          기간  자치구      세대   인구 합계   남자 합계   여자 합계  한국인 합계  힌국인 남자 합계  \\\n",
       "23  2022.1/4  관악구  279353  500336  250450  249886  486375     244409   \n",
       "24  2022.1/4  서초구  169895  413677  197665  216012  409823     195806   \n",
       "25  2022.1/4  강남구  234612  537338  257096  280242  532577     254866   \n",
       "26  2022.1/4  송파구  285106  668261  321963  346298  662607     319407   \n",
       "27  2022.1/4  강동구  201926  465097  227891  237206  461300     226203   \n",
       "\n",
       "    한국인 여자 합계  외국인 합계  외국인 남자 합계  외국인 여자 합계  세대당인구  65세이상고령자  \n",
       "23     241966   13961       6041       7920   1.74     80686  \n",
       "24     214017    3854       1859       1995   2.41     61404  \n",
       "25     277711    4761       2230       2531   2.27     79575  \n",
       "26     343200    5654       2556       3098   2.32     99854  \n",
       "27     235097    3797       1688       2109   2.28     75477  "
      ]
     },
     "execution_count": 14,
     "metadata": {},
     "output_type": "execute_result"
    }
   ],
   "source": [
    "# 아래에 실습코드를 작성하고 결과를 확인합니다.\n",
    "seoul_people.tail()"
   ]
  },
  {
   "cell_type": "code",
   "execution_count": 21,
   "id": "5f82ee72",
   "metadata": {},
   "outputs": [],
   "source": [
    "seoul_people.drop(columns=seoul_people.columns[[0,2,4,5,6,7,8,9,10,11,12]], inplace=True)"
   ]
  },
  {
   "cell_type": "code",
   "execution_count": 22,
   "id": "120e5138",
   "metadata": {},
   "outputs": [
    {
     "data": {
      "text/html": [
       "<div>\n",
       "<style scoped>\n",
       "    .dataframe tbody tr th:only-of-type {\n",
       "        vertical-align: middle;\n",
       "    }\n",
       "\n",
       "    .dataframe tbody tr th {\n",
       "        vertical-align: top;\n",
       "    }\n",
       "\n",
       "    .dataframe thead th {\n",
       "        text-align: right;\n",
       "    }\n",
       "</style>\n",
       "<table border=\"1\" class=\"dataframe\">\n",
       "  <thead>\n",
       "    <tr style=\"text-align: right;\">\n",
       "      <th></th>\n",
       "      <th>자치구</th>\n",
       "      <th>인구 합계</th>\n",
       "      <th>65세이상고령자</th>\n",
       "    </tr>\n",
       "  </thead>\n",
       "  <tbody>\n",
       "    <tr>\n",
       "      <th>3</th>\n",
       "      <td>종로구</td>\n",
       "      <td>153684</td>\n",
       "      <td>28064</td>\n",
       "    </tr>\n",
       "    <tr>\n",
       "      <th>4</th>\n",
       "      <td>중구</td>\n",
       "      <td>131450</td>\n",
       "      <td>24742</td>\n",
       "    </tr>\n",
       "    <tr>\n",
       "      <th>5</th>\n",
       "      <td>용산구</td>\n",
       "      <td>236518</td>\n",
       "      <td>39461</td>\n",
       "    </tr>\n",
       "    <tr>\n",
       "      <th>6</th>\n",
       "      <td>성동구</td>\n",
       "      <td>291609</td>\n",
       "      <td>46896</td>\n",
       "    </tr>\n",
       "    <tr>\n",
       "      <th>7</th>\n",
       "      <td>광진구</td>\n",
       "      <td>353110</td>\n",
       "      <td>52604</td>\n",
       "    </tr>\n",
       "  </tbody>\n",
       "</table>\n",
       "</div>"
      ],
      "text/plain": [
       "   자치구   인구 합계  65세이상고령자\n",
       "3  종로구  153684     28064\n",
       "4   중구  131450     24742\n",
       "5  용산구  236518     39461\n",
       "6  성동구  291609     46896\n",
       "7  광진구  353110     52604"
      ]
     },
     "execution_count": 22,
     "metadata": {},
     "output_type": "execute_result"
    }
   ],
   "source": [
    "seoul_people.head()"
   ]
  },
  {
   "cell_type": "code",
   "execution_count": 23,
   "id": "be9c1d4a",
   "metadata": {
    "id": "be9c1d4a"
   },
   "outputs": [],
   "source": [
    "# 해당 데이터프레임을 'df_seoul_people.csv' 파일로 저장하세요.\n",
    "\n",
    "fpath = './df_seoul_people.csv'\n",
    "seoul_people.to_csv(fpath, index=False, encoding='utf-8-sig')"
   ]
  },
  {
   "cell_type": "markdown",
   "id": "southeast-integration",
   "metadata": {
    "id": "southeast-integration"
   },
   "source": [
    "# 3.데이터 분석하기\n",
    "+ KeyPoint : 데이터의 형태를 살펴보고 다양한 분석기법을 통해 모델링에 적합하도록 정제요소를 선별할 수 있다.\n",
    "  * 데이터들의 패턴 탐색\n",
    "  * 변수들간의 관계 파악"
   ]
  },
  {
   "cell_type": "code",
   "execution_count": 16,
   "id": "194ae01d",
   "metadata": {
    "id": "194ae01d"
   },
   "outputs": [],
   "source": [
    "# 시각화 한글폰트 설정\n",
    "import seaborn as sns\n",
    "import matplotlib.pyplot as plt\n",
    "\n",
    "plt.rc('font', family='nanum')\n",
    "sns.set(font=\"NanumGothicCoding\",#\"NanumGothicCoding\", \n",
    "        rc={\"axes.unicode_minus\":False}, # 마이너스 부호 깨짐 현상 해결\n",
    "        style='darkgrid')      "
   ]
  },
  {
   "cell_type": "markdown",
   "id": "material-complex",
   "metadata": {
    "id": "material-complex"
   },
   "source": [
    "#### [실습문제4] 데이터 분포 알아보기\n",
    "* 다양한 변수를 기준으로 그래프를 그려보고 인사이트를 도출해보세요."
   ]
  },
  {
   "cell_type": "code",
   "execution_count": 17,
   "id": "acffc469",
   "metadata": {
    "id": "acffc469"
   },
   "outputs": [],
   "source": [
    "# 아래에 실습코드를 작성하고 결과를 확인합니다.\n",
    "\n",
    "from matplotlib import font_manager, rc\n",
    "font_path = \"C:/Windows/Fonts/NGULIM.TTF\"\n",
    "font = font_manager.FontProperties(fname=font_path).get_name()\n",
    "rc('font', family=font)"
   ]
  },
  {
   "cell_type": "code",
   "execution_count": 20,
   "id": "7aefe714",
   "metadata": {
    "id": "7aefe714"
   },
   "outputs": [
    {
     "data": {
      "text/plain": [
       "[<matplotlib.lines.Line2D at 0x1ccab78e438>]"
      ]
     },
     "execution_count": 20,
     "metadata": {},
     "output_type": "execute_result"
    },
    {
     "data": {
      "image/png": "[encoded data removed]",
      "text/plain": [
       "<Figure size 1440x288 with 1 Axes>"
      ]
     },
     "metadata": {
      "needs_background": "light"
     },
     "output_type": "display_data"
    }
   ],
   "source": [
    "# 아래에 실습코드를 작성하고 결과를 확인합니다.\n",
    "plt.figure(figsize=(20,4))\n",
    "plt.plot('자치구', '65세이상고령자', data = seoul_people)"
   ]
  },
  {
   "cell_type": "code",
   "execution_count": null,
   "id": "86892a60",
   "metadata": {
    "id": "86892a60"
   },
   "outputs": [],
   "source": [
    "# 위 차트를 통해 알게된 사실을 정리해봅시다.\n",
    "# 1. \n",
    "# 2.\n",
    "# 3."
   ]
  },
  {
   "cell_type": "markdown",
   "id": "450fcfaa",
   "metadata": {
    "id": "450fcfaa"
   },
   "source": [
    "---"
   ]
  }
 ],
 "metadata": {
  "colab": {
   "collapsed_sections": [],
   "provenance": []
  },
  "kernelspec": {
   "display_name": "Python 3 (ipykernel)",
   "language": "python",
   "name": "python3"
  },
  "language_info": {
   "codemirror_mode": {
    "name": "ipython",
    "version": 3
   },
   "file_extension": ".py",
   "mimetype": "text/x-python",
   "name": "python",
   "nbconvert_exporter": "python",
   "pygments_lexer": "ipython3",
   "version": "3.7.0"
  },
  "vscode": {
   "interpreter": {
    "hash": "f08154012ddadd8e950e6e9e035c7a7b32c136e7647e9b7c77e02eb723a8bedb"
   }
  }
 },
 "nbformat": 4,
 "nbformat_minor": 5
}
