{
 "cells": [
  {
   "cell_type": "markdown",
   "id": "boxed-jamaica",
   "metadata": {
    "id": "boxed-jamaica"
   },
   "source": [
    "# 안녕하세요^^ \n",
    "## '서울시 생활정보 기반 대중교통 수요 분석 ' 과정에 오신 여러분을 환영합니다.\n",
    "* 본 과정에서는 실제 사례와 데이터를 기반으로 문제를 해결하는 전체 과정을 자기 주도형 실습으로 진행해볼 예정입니다.\n",
    "* 앞선 교육과정을 정리하는 마음과 지금까지 배운 내용을 바탕으로 문제 해결을 해볼게요!\n",
    "* 미니 프로젝트를 통한 문제 해결 과정 'A에서 Z까지', 지금부터 시작합니다!"
   ]
  },
  {
   "cell_type": "markdown",
   "id": "ef575059",
   "metadata": {
    "id": "ef575059"
   },
   "source": [
    "---"
   ]
  },
  {
   "cell_type": "markdown",
   "id": "f2bc4fa5",
   "metadata": {
    "id": "f2bc4fa5"
   },
   "source": [
    "# 데이터 분석부터 먼저 시작해보겠습니다.\n",
    "## \"구별 업종 등록 데이터\" 를 확인해 보도록 하겠습니다"
   ]
  },
  {
   "cell_type": "code",
   "execution_count": 1,
   "id": "4c6ced42",
   "metadata": {
    "id": "4c6ced42"
   },
   "outputs": [],
   "source": [
    "# 필요 라이브러리부터 설치합니다.\n",
    "#%pip install pandas seaborn"
   ]
  },
  {
   "cell_type": "markdown",
   "id": "revolutionary-farmer",
   "metadata": {
    "id": "revolutionary-farmer"
   },
   "source": [
    "## 기본전제\n",
    "* 처음에 제공되는 기본/추가 데이터는 'raw_data' 폴더에 있습니다.\n",
    "\n",
    "[기본 데이터]\n",
    "* business_type.csv\n",
    "\n",
    "[데이터 소개]\n",
    "* 서울 시 구별 등록 업종 상위 10개 데이터\n",
    "    * 택시운송업\n",
    "    * 한식일반음식점업\n",
    "    * 용달 화물자동차 운송업\n",
    "    * 부동산 중개 및 대리업\n",
    "    * 두발미용업\n",
    "    * 커피전문점\n",
    "    * 남녀용 겉옷 및 셔츠 도매업\n",
    "    * 기타주점업\n",
    "    * 일반 교과 학원\n",
    "    * 한식 육류요리 전문점\n",
    "\n",
    "[변수 소개]\n",
    "* 다수 업종 상위 1~10"
   ]
  },
  {
   "cell_type": "markdown",
   "id": "matched-broad",
   "metadata": {
    "id": "matched-broad"
   },
   "source": [
    "---"
   ]
  },
  {
   "cell_type": "markdown",
   "id": "warming-gentleman",
   "metadata": {
    "id": "warming-gentleman"
   },
   "source": [
    "# 1.데이터 불러오기\n",
    "## 모든 미니 프로젝트의 시작은 '데이터 불러오기' 부터라고 할 수 있습니다.\n",
    "+ KeyPoint : 불러오고자 하는 데이터에 따라 자유롭게 변수로 지정할 수 있다."
   ]
  },
  {
   "cell_type": "markdown",
   "id": "measured-administration",
   "metadata": {
    "id": "measured-administration"
   },
   "source": [
    "###  데이터 프레임을 불러오고 변수로 저장(여기서는 CSV 기준으로 진행)\n",
    "* csv : pd.read_csv(\"파일이름. csv\")\n",
    "* txt : pd.read_csv(\"파일이름. csv\", sep=\"구분자\")\n",
    "* xlsx : pd.read_excel('파일이름.xlsx')\n",
    "* pickle : pd.read_pickle(\"파일이름.pkl\") <br>\n",
    " [참고] pickle은 파이썬의 모든 객체를 파일로 저장할 수 있는 방법으로 DataFrame,List,Dict 등 모든 객체 저장 가능(특히 sklearn라이브러리를 통해 모델을 학습시키고, 저장할 때 많이 사용)"
   ]
  },
  {
   "cell_type": "markdown",
   "id": "340abcda",
   "metadata": {
    "id": "340abcda"
   },
   "source": [
    "## 기본전제\n",
    "* 처음에 제공되는 데이터는 'raw_data' 폴더에 있습니다.\n",
    "\n",
    "[기본 데이터]\n",
    "* 1.4 business_type.csv\n",
    "\n",
    "[데이터 소개]\n",
    "* 서울시 업종 등록 데이터"
   ]
  },
  {
   "cell_type": "markdown",
   "id": "vocational-animal",
   "metadata": {
    "id": "vocational-animal"
   },
   "source": [
    "#### [실습문제1] 데이터 로딩\n",
    "* '1.4 business_type.csv'파일을 'seoul_business' 변수에 저장하고 그 데이터를 확인하세요.\n",
    "    * 데이터 파일 로딩시 참고 사항 \n",
    "        * 구분자(sep)는 ',' 입니다\n",
    "        * UTF-8 인코더를 사용해 주세요"
   ]
  },
  {
   "cell_type": "code",
   "execution_count": 2,
   "id": "saving-slope",
   "metadata": {
    "id": "saving-slope"
   },
   "outputs": [],
   "source": [
    "# 아래에 실습코드를 작성하고 결과를 확인합니다.\n",
    "import pandas as pd\n",
    "seoul_business = pd.read_csv('1.4 business_type.csv', sep=\",\",thousands = ',', encoding = \"UTF-8\")"
   ]
  },
  {
   "cell_type": "code",
   "execution_count": 3,
   "id": "funny-subcommittee",
   "metadata": {
    "id": "funny-subcommittee"
   },
   "outputs": [
    {
     "data": {
      "text/plain": [
       "(448, 22)"
      ]
     },
     "execution_count": 3,
     "metadata": {},
     "output_type": "execute_result"
    }
   ],
   "source": [
    "# 데이터 프레임의 Shape을 확인합니다.\n",
    "seoul_business.shape"
   ]
  },
  {
   "cell_type": "markdown",
   "id": "73396b42",
   "metadata": {
    "id": "73396b42"
   },
   "source": [
    "---"
   ]
  },
  {
   "cell_type": "markdown",
   "id": "annoying-trout",
   "metadata": {
    "id": "annoying-trout"
   },
   "source": [
    "# 2.기본 정보 확인 및 클렌징\n",
    "\n",
    "+ 데이터 클렌징 : 결측치, 이상치 등을 제거하여 데이터 분석 결과가 왜곡 되는 문제를 방지하기 위한 정제 과정"
   ]
  },
  {
   "cell_type": "markdown",
   "id": "romantic-johnson",
   "metadata": {
    "id": "romantic-johnson"
   },
   "source": [
    "#### [실습문제2] 기본 정보 확인하기\n",
    "* 'seoul_moving' 데이터의 정보를 확인해보세요.\n",
    "* 'describe', 'info', 'head' 등 전부 활용해 보겠습니다."
   ]
  },
  {
   "cell_type": "code",
   "execution_count": 4,
   "id": "demographic-battery",
   "metadata": {
    "id": "demographic-battery"
   },
   "outputs": [
    {
     "name": "stdout",
     "output_type": "stream",
     "text": [
      "<class 'pandas.core.frame.DataFrame'>\n",
      "RangeIndex: 448 entries, 0 to 447\n",
      "Data columns (total 22 columns):\n",
      " #   Column   Non-Null Count  Dtype \n",
      "---  ------   --------------  ----- \n",
      " 0   합계       448 non-null    object\n",
      " 1   합계.1     448 non-null    object\n",
      " 2   47,176   448 non-null    object\n",
      " 3   76,701   448 non-null    object\n",
      " 4   29,225   448 non-null    int64 \n",
      " 5   100,183  448 non-null    int64 \n",
      " 6   28,494   448 non-null    object\n",
      " 7   29,356   448 non-null    object\n",
      " 8   24,013   448 non-null    int64 \n",
      " 9   42,636   448 non-null    int64 \n",
      " 10  18,080   448 non-null    object\n",
      " 11  36,214   448 non-null    object\n",
      " 12  16,255   448 non-null    int64 \n",
      " 13  57,322   448 non-null    int64 \n",
      " 14  13,388   448 non-null    object\n",
      " 15  51,116   448 non-null    object\n",
      " 16  13,339   448 non-null    object\n",
      " 17  31,371   448 non-null    object\n",
      " 18  11,911   448 non-null    object\n",
      " 19  50,773   448 non-null    object\n",
      " 20  11,109   448 non-null    object\n",
      " 21  44,653   448 non-null    object\n",
      "dtypes: int64(6), object(16)\n",
      "memory usage: 77.1+ KB\n"
     ]
    }
   ],
   "source": [
    "# 아래에 실습코드를 작성하고 결과를 확인합니다.\n",
    "seoul_business.info()"
   ]
  },
  {
   "cell_type": "code",
   "execution_count": 5,
   "id": "940a114a",
   "metadata": {
    "id": "940a114a"
   },
   "outputs": [
    {
     "data": {
      "text/html": [
       "<div>\n",
       "<style scoped>\n",
       "    .dataframe tbody tr th:only-of-type {\n",
       "        vertical-align: middle;\n",
       "    }\n",
       "\n",
       "    .dataframe tbody tr th {\n",
       "        vertical-align: top;\n",
       "    }\n",
       "\n",
       "    .dataframe thead th {\n",
       "        text-align: right;\n",
       "    }\n",
       "</style>\n",
       "<table border=\"1\" class=\"dataframe\">\n",
       "  <thead>\n",
       "    <tr style=\"text-align: right;\">\n",
       "      <th></th>\n",
       "      <th>29,225</th>\n",
       "      <th>100,183</th>\n",
       "      <th>24,013</th>\n",
       "      <th>42,636</th>\n",
       "      <th>16,255</th>\n",
       "      <th>57,322</th>\n",
       "    </tr>\n",
       "  </thead>\n",
       "  <tbody>\n",
       "    <tr>\n",
       "      <th>count</th>\n",
       "      <td>448.000000</td>\n",
       "      <td>448.000000</td>\n",
       "      <td>448.000000</td>\n",
       "      <td>448.000000</td>\n",
       "      <td>448.000000</td>\n",
       "      <td>448.000000</td>\n",
       "    </tr>\n",
       "    <tr>\n",
       "      <th>mean</th>\n",
       "      <td>130.468750</td>\n",
       "      <td>447.245536</td>\n",
       "      <td>107.200893</td>\n",
       "      <td>190.339286</td>\n",
       "      <td>72.566964</td>\n",
       "      <td>255.901786</td>\n",
       "    </tr>\n",
       "    <tr>\n",
       "      <th>std</th>\n",
       "      <td>276.242354</td>\n",
       "      <td>1036.046028</td>\n",
       "      <td>231.292826</td>\n",
       "      <td>470.321220</td>\n",
       "      <td>165.452048</td>\n",
       "      <td>627.806721</td>\n",
       "    </tr>\n",
       "    <tr>\n",
       "      <th>min</th>\n",
       "      <td>1.000000</td>\n",
       "      <td>3.000000</td>\n",
       "      <td>9.000000</td>\n",
       "      <td>10.000000</td>\n",
       "      <td>2.000000</td>\n",
       "      <td>4.000000</td>\n",
       "    </tr>\n",
       "    <tr>\n",
       "      <th>25%</th>\n",
       "      <td>33.000000</td>\n",
       "      <td>90.000000</td>\n",
       "      <td>33.000000</td>\n",
       "      <td>48.000000</td>\n",
       "      <td>15.000000</td>\n",
       "      <td>40.750000</td>\n",
       "    </tr>\n",
       "    <tr>\n",
       "      <th>50%</th>\n",
       "      <td>55.500000</td>\n",
       "      <td>164.000000</td>\n",
       "      <td>50.000000</td>\n",
       "      <td>76.000000</td>\n",
       "      <td>27.500000</td>\n",
       "      <td>84.500000</td>\n",
       "    </tr>\n",
       "    <tr>\n",
       "      <th>75%</th>\n",
       "      <td>96.000000</td>\n",
       "      <td>314.250000</td>\n",
       "      <td>76.000000</td>\n",
       "      <td>126.000000</td>\n",
       "      <td>49.250000</td>\n",
       "      <td>177.250000</td>\n",
       "    </tr>\n",
       "    <tr>\n",
       "      <th>max</th>\n",
       "      <td>2415.000000</td>\n",
       "      <td>11486.000000</td>\n",
       "      <td>2337.000000</td>\n",
       "      <td>6508.000000</td>\n",
       "      <td>1624.000000</td>\n",
       "      <td>7273.000000</td>\n",
       "    </tr>\n",
       "  </tbody>\n",
       "</table>\n",
       "</div>"
      ],
      "text/plain": [
       "            29,225       100,183       24,013       42,636       16,255  \\\n",
       "count   448.000000    448.000000   448.000000   448.000000   448.000000   \n",
       "mean    130.468750    447.245536   107.200893   190.339286    72.566964   \n",
       "std     276.242354   1036.046028   231.292826   470.321220   165.452048   \n",
       "min       1.000000      3.000000     9.000000    10.000000     2.000000   \n",
       "25%      33.000000     90.000000    33.000000    48.000000    15.000000   \n",
       "50%      55.500000    164.000000    50.000000    76.000000    27.500000   \n",
       "75%      96.000000    314.250000    76.000000   126.000000    49.250000   \n",
       "max    2415.000000  11486.000000  2337.000000  6508.000000  1624.000000   \n",
       "\n",
       "            57,322  \n",
       "count   448.000000  \n",
       "mean    255.901786  \n",
       "std     627.806721  \n",
       "min       4.000000  \n",
       "25%      40.750000  \n",
       "50%      84.500000  \n",
       "75%     177.250000  \n",
       "max    7273.000000  "
      ]
     },
     "execution_count": 5,
     "metadata": {},
     "output_type": "execute_result"
    }
   ],
   "source": [
    "# 아래에 실습코드를 작성하고 결과를 확인합니다.\n",
    "seoul_business.describe()"
   ]
  },
  {
   "cell_type": "code",
   "execution_count": 6,
   "id": "e3180198",
   "metadata": {},
   "outputs": [
    {
     "data": {
      "text/html": [
       "<div>\n",
       "<style scoped>\n",
       "    .dataframe tbody tr th:only-of-type {\n",
       "        vertical-align: middle;\n",
       "    }\n",
       "\n",
       "    .dataframe tbody tr th {\n",
       "        vertical-align: top;\n",
       "    }\n",
       "\n",
       "    .dataframe thead th {\n",
       "        text-align: right;\n",
       "    }\n",
       "</style>\n",
       "<table border=\"1\" class=\"dataframe\">\n",
       "  <thead>\n",
       "    <tr style=\"text-align: right;\">\n",
       "      <th></th>\n",
       "      <th>합계</th>\n",
       "      <th>합계.1</th>\n",
       "      <th>47,176</th>\n",
       "      <th>76,701</th>\n",
       "      <th>29,225</th>\n",
       "      <th>100,183</th>\n",
       "      <th>28,494</th>\n",
       "      <th>29,356</th>\n",
       "      <th>24,013</th>\n",
       "      <th>42,636</th>\n",
       "      <th>...</th>\n",
       "      <th>16,255</th>\n",
       "      <th>57,322</th>\n",
       "      <th>13,388</th>\n",
       "      <th>51,116</th>\n",
       "      <th>13,339</th>\n",
       "      <th>31,371</th>\n",
       "      <th>11,911</th>\n",
       "      <th>50,773</th>\n",
       "      <th>11,109</th>\n",
       "      <th>44,653</th>\n",
       "    </tr>\n",
       "  </thead>\n",
       "  <tbody>\n",
       "    <tr>\n",
       "      <th>0</th>\n",
       "      <td>종로구</td>\n",
       "      <td>소계</td>\n",
       "      <td>215</td>\n",
       "      <td>215</td>\n",
       "      <td>1548</td>\n",
       "      <td>5912</td>\n",
       "      <td>618</td>\n",
       "      <td>646</td>\n",
       "      <td>549</td>\n",
       "      <td>889</td>\n",
       "      <td>...</td>\n",
       "      <td>948</td>\n",
       "      <td>3613</td>\n",
       "      <td>400</td>\n",
       "      <td>962</td>\n",
       "      <td>537</td>\n",
       "      <td>1,413</td>\n",
       "      <td>110</td>\n",
       "      <td>382</td>\n",
       "      <td>437</td>\n",
       "      <td>1,982</td>\n",
       "    </tr>\n",
       "    <tr>\n",
       "      <th>1</th>\n",
       "      <td>종로구</td>\n",
       "      <td>사직동</td>\n",
       "      <td>7</td>\n",
       "      <td>7</td>\n",
       "      <td>230</td>\n",
       "      <td>982</td>\n",
       "      <td>12</td>\n",
       "      <td>12</td>\n",
       "      <td>57</td>\n",
       "      <td>96</td>\n",
       "      <td>...</td>\n",
       "      <td>124</td>\n",
       "      <td>525</td>\n",
       "      <td>2</td>\n",
       "      <td>18</td>\n",
       "      <td>74</td>\n",
       "      <td>177</td>\n",
       "      <td>9</td>\n",
       "      <td>34</td>\n",
       "      <td>45</td>\n",
       "      <td>220</td>\n",
       "    </tr>\n",
       "    <tr>\n",
       "      <th>2</th>\n",
       "      <td>종로구</td>\n",
       "      <td>삼청동</td>\n",
       "      <td>5</td>\n",
       "      <td>5</td>\n",
       "      <td>42</td>\n",
       "      <td>145</td>\n",
       "      <td>4</td>\n",
       "      <td>4</td>\n",
       "      <td>9</td>\n",
       "      <td>10</td>\n",
       "      <td>...</td>\n",
       "      <td>66</td>\n",
       "      <td>243</td>\n",
       "      <td>2</td>\n",
       "      <td>3</td>\n",
       "      <td>3</td>\n",
       "      <td>8</td>\n",
       "      <td>-</td>\n",
       "      <td>-</td>\n",
       "      <td>7</td>\n",
       "      <td>33</td>\n",
       "    </tr>\n",
       "    <tr>\n",
       "      <th>3</th>\n",
       "      <td>종로구</td>\n",
       "      <td>부암동</td>\n",
       "      <td>22</td>\n",
       "      <td>22</td>\n",
       "      <td>26</td>\n",
       "      <td>100</td>\n",
       "      <td>9</td>\n",
       "      <td>9</td>\n",
       "      <td>17</td>\n",
       "      <td>26</td>\n",
       "      <td>...</td>\n",
       "      <td>24</td>\n",
       "      <td>62</td>\n",
       "      <td>3</td>\n",
       "      <td>6</td>\n",
       "      <td>7</td>\n",
       "      <td>23</td>\n",
       "      <td>16</td>\n",
       "      <td>59</td>\n",
       "      <td>3</td>\n",
       "      <td>15</td>\n",
       "    </tr>\n",
       "    <tr>\n",
       "      <th>4</th>\n",
       "      <td>종로구</td>\n",
       "      <td>평창동</td>\n",
       "      <td>10</td>\n",
       "      <td>10</td>\n",
       "      <td>31</td>\n",
       "      <td>116</td>\n",
       "      <td>11</td>\n",
       "      <td>11</td>\n",
       "      <td>33</td>\n",
       "      <td>52</td>\n",
       "      <td>...</td>\n",
       "      <td>19</td>\n",
       "      <td>62</td>\n",
       "      <td>2</td>\n",
       "      <td>4</td>\n",
       "      <td>26</td>\n",
       "      <td>54</td>\n",
       "      <td>25</td>\n",
       "      <td>71</td>\n",
       "      <td>10</td>\n",
       "      <td>103</td>\n",
       "    </tr>\n",
       "  </tbody>\n",
       "</table>\n",
       "<p>5 rows × 22 columns</p>\n",
       "</div>"
      ],
      "text/plain": [
       "    합계 합계.1 47,176 76,701  29,225  100,183 28,494 29,356  24,013  42,636  ...  \\\n",
       "0  종로구   소계    215    215    1548     5912    618    646     549     889  ...   \n",
       "1  종로구  사직동      7      7     230      982     12     12      57      96  ...   \n",
       "2  종로구  삼청동      5      5      42      145      4      4       9      10  ...   \n",
       "3  종로구  부암동     22     22      26      100      9      9      17      26  ...   \n",
       "4  종로구  평창동     10     10      31      116     11     11      33      52  ...   \n",
       "\n",
       "  16,255 57,322  13,388  51,116 13,339 31,371 11,911 50,773 11,109 44,653  \n",
       "0    948   3613     400     962    537  1,413    110    382    437  1,982  \n",
       "1    124    525       2      18     74    177      9     34     45    220  \n",
       "2     66    243       2       3      3      8      -      -      7     33  \n",
       "3     24     62       3       6      7     23     16     59      3     15  \n",
       "4     19     62       2       4     26     54     25     71     10    103  \n",
       "\n",
       "[5 rows x 22 columns]"
      ]
     },
     "execution_count": 6,
     "metadata": {},
     "output_type": "execute_result"
    }
   ],
   "source": [
    "seoul_business.head()"
   ]
  },
  {
   "cell_type": "markdown",
   "id": "003322b3",
   "metadata": {
    "id": "003322b3"
   },
   "source": [
    "#### [실습문제3] 데이터 확인 및 처리\n",
    "\n",
    "* 데이터를 보았을때, 어느 데이터를 가져와야 할지 생각 해 봅시다."
   ]
  },
  {
   "cell_type": "code",
   "execution_count": 7,
   "id": "aceaca60",
   "metadata": {
    "id": "aceaca60"
   },
   "outputs": [],
   "source": [
    "# 아래에 실습코드를 작성하고 결과를 확인합니다.\n",
    "#seoul_business = seoul_business.drop(columns= [0])\n",
    "seoul_business.drop(columns=seoul_business.columns[[4,5,6,7,8,9,10,11,12,13,14,15,16,17,18,19,20,21]], inplace=True)"
   ]
  },
  {
   "cell_type": "code",
   "execution_count": 8,
   "id": "6c89f8e6",
   "metadata": {
    "id": "6c89f8e6"
   },
   "outputs": [],
   "source": [
    "# 아래에 실습코드를 작성하고 결과를 확인합니다.\n",
    "seoul_business.rename(columns = {'합계' : '자치구'}, inplace = True)\n",
    "seoul_business.rename(columns = {'47,176' : '택시운송업 사업체 수'}, inplace = True)\n",
    "seoul_business.rename(columns = {'76,701' : '택시운송업 종사자 수'}, inplace = True)\n",
    "seoul_business.rename(columns = {'합계.1' : '동'}, inplace = True)\n",
    "\n",
    "# seoul_business = seoul_business.drop(0)\n",
    "# seoul_business = seoul_business.drop(1)\n",
    "# seoul_business = seoul_business.drop(2)"
   ]
  },
  {
   "cell_type": "code",
   "execution_count": 9,
   "id": "7265730a",
   "metadata": {
    "id": "7265730a",
    "scrolled": true
   },
   "outputs": [
    {
     "data": {
      "text/html": [
       "<div>\n",
       "<style scoped>\n",
       "    .dataframe tbody tr th:only-of-type {\n",
       "        vertical-align: middle;\n",
       "    }\n",
       "\n",
       "    .dataframe tbody tr th {\n",
       "        vertical-align: top;\n",
       "    }\n",
       "\n",
       "    .dataframe thead th {\n",
       "        text-align: right;\n",
       "    }\n",
       "</style>\n",
       "<table border=\"1\" class=\"dataframe\">\n",
       "  <thead>\n",
       "    <tr style=\"text-align: right;\">\n",
       "      <th></th>\n",
       "      <th>자치구</th>\n",
       "      <th>동</th>\n",
       "      <th>택시운송업 사업체 수</th>\n",
       "      <th>택시운송업 종사자 수</th>\n",
       "    </tr>\n",
       "  </thead>\n",
       "  <tbody>\n",
       "    <tr>\n",
       "      <th>0</th>\n",
       "      <td>종로구</td>\n",
       "      <td>소계</td>\n",
       "      <td>215</td>\n",
       "      <td>215</td>\n",
       "    </tr>\n",
       "    <tr>\n",
       "      <th>1</th>\n",
       "      <td>종로구</td>\n",
       "      <td>사직동</td>\n",
       "      <td>7</td>\n",
       "      <td>7</td>\n",
       "    </tr>\n",
       "    <tr>\n",
       "      <th>2</th>\n",
       "      <td>종로구</td>\n",
       "      <td>삼청동</td>\n",
       "      <td>5</td>\n",
       "      <td>5</td>\n",
       "    </tr>\n",
       "    <tr>\n",
       "      <th>3</th>\n",
       "      <td>종로구</td>\n",
       "      <td>부암동</td>\n",
       "      <td>22</td>\n",
       "      <td>22</td>\n",
       "    </tr>\n",
       "    <tr>\n",
       "      <th>4</th>\n",
       "      <td>종로구</td>\n",
       "      <td>평창동</td>\n",
       "      <td>10</td>\n",
       "      <td>10</td>\n",
       "    </tr>\n",
       "  </tbody>\n",
       "</table>\n",
       "</div>"
      ],
      "text/plain": [
       "   자치구    동 택시운송업 사업체 수 택시운송업 종사자 수\n",
       "0  종로구   소계         215         215\n",
       "1  종로구  사직동           7           7\n",
       "2  종로구  삼청동           5           5\n",
       "3  종로구  부암동          22          22\n",
       "4  종로구  평창동          10          10"
      ]
     },
     "execution_count": 9,
     "metadata": {},
     "output_type": "execute_result"
    }
   ],
   "source": [
    "# 아래에 실습코드를 작성하고 결과를 확인합니다.\n",
    "seoul_business.head()"
   ]
  },
  {
   "cell_type": "markdown",
   "id": "53c1c77d",
   "metadata": {},
   "source": [
    "### 구별 소계 행만 뽑기"
   ]
  },
  {
   "cell_type": "code",
   "execution_count": 10,
   "id": "9fc3e2ee",
   "metadata": {},
   "outputs": [],
   "source": [
    "seoul_business = seoul_business[seoul_business.동 == '소계']"
   ]
  },
  {
   "cell_type": "code",
   "execution_count": 11,
   "id": "52a0a24b",
   "metadata": {},
   "outputs": [
    {
     "data": {
      "text/html": [
       "<div>\n",
       "<style scoped>\n",
       "    .dataframe tbody tr th:only-of-type {\n",
       "        vertical-align: middle;\n",
       "    }\n",
       "\n",
       "    .dataframe tbody tr th {\n",
       "        vertical-align: top;\n",
       "    }\n",
       "\n",
       "    .dataframe thead th {\n",
       "        text-align: right;\n",
       "    }\n",
       "</style>\n",
       "<table border=\"1\" class=\"dataframe\">\n",
       "  <thead>\n",
       "    <tr style=\"text-align: right;\">\n",
       "      <th></th>\n",
       "      <th>자치구</th>\n",
       "      <th>동</th>\n",
       "      <th>택시운송업 사업체 수</th>\n",
       "      <th>택시운송업 종사자 수</th>\n",
       "    </tr>\n",
       "  </thead>\n",
       "  <tbody>\n",
       "    <tr>\n",
       "      <th>0</th>\n",
       "      <td>종로구</td>\n",
       "      <td>소계</td>\n",
       "      <td>215</td>\n",
       "      <td>215</td>\n",
       "    </tr>\n",
       "    <tr>\n",
       "      <th>18</th>\n",
       "      <td>중구</td>\n",
       "      <td>소계</td>\n",
       "      <td>230</td>\n",
       "      <td>235</td>\n",
       "    </tr>\n",
       "    <tr>\n",
       "      <th>34</th>\n",
       "      <td>용산구</td>\n",
       "      <td>소계</td>\n",
       "      <td>416</td>\n",
       "      <td>523</td>\n",
       "    </tr>\n",
       "    <tr>\n",
       "      <th>51</th>\n",
       "      <td>성동구</td>\n",
       "      <td>소계</td>\n",
       "      <td>1,200</td>\n",
       "      <td>2,527</td>\n",
       "    </tr>\n",
       "    <tr>\n",
       "      <th>69</th>\n",
       "      <td>광진구</td>\n",
       "      <td>소계</td>\n",
       "      <td>1,119</td>\n",
       "      <td>1,744</td>\n",
       "    </tr>\n",
       "  </tbody>\n",
       "</table>\n",
       "</div>"
      ],
      "text/plain": [
       "    자치구   동 택시운송업 사업체 수 택시운송업 종사자 수\n",
       "0   종로구  소계         215         215\n",
       "18   중구  소계         230         235\n",
       "34  용산구  소계         416         523\n",
       "51  성동구  소계       1,200       2,527\n",
       "69  광진구  소계       1,119       1,744"
      ]
     },
     "execution_count": 11,
     "metadata": {},
     "output_type": "execute_result"
    }
   ],
   "source": [
    "seoul_business.head()"
   ]
  },
  {
   "cell_type": "code",
   "execution_count": 12,
   "id": "34a1f42f",
   "metadata": {},
   "outputs": [
    {
     "data": {
      "text/html": [
       "<div>\n",
       "<style scoped>\n",
       "    .dataframe tbody tr th:only-of-type {\n",
       "        vertical-align: middle;\n",
       "    }\n",
       "\n",
       "    .dataframe tbody tr th {\n",
       "        vertical-align: top;\n",
       "    }\n",
       "\n",
       "    .dataframe thead th {\n",
       "        text-align: right;\n",
       "    }\n",
       "</style>\n",
       "<table border=\"1\" class=\"dataframe\">\n",
       "  <thead>\n",
       "    <tr style=\"text-align: right;\">\n",
       "      <th></th>\n",
       "      <th>자치구</th>\n",
       "      <th>동</th>\n",
       "      <th>택시운송업 사업체 수</th>\n",
       "      <th>택시운송업 종사자 수</th>\n",
       "    </tr>\n",
       "  </thead>\n",
       "  <tbody>\n",
       "    <tr>\n",
       "      <th>338</th>\n",
       "      <td>관악구</td>\n",
       "      <td>소계</td>\n",
       "      <td>1,286</td>\n",
       "      <td>2,027</td>\n",
       "    </tr>\n",
       "    <tr>\n",
       "      <th>360</th>\n",
       "      <td>서초구</td>\n",
       "      <td>소계</td>\n",
       "      <td>417</td>\n",
       "      <td>903</td>\n",
       "    </tr>\n",
       "    <tr>\n",
       "      <th>379</th>\n",
       "      <td>강남구</td>\n",
       "      <td>소계</td>\n",
       "      <td>1,796</td>\n",
       "      <td>2,517</td>\n",
       "    </tr>\n",
       "    <tr>\n",
       "      <th>402</th>\n",
       "      <td>송파구</td>\n",
       "      <td>소계</td>\n",
       "      <td>2,638</td>\n",
       "      <td>4,850</td>\n",
       "    </tr>\n",
       "    <tr>\n",
       "      <th>430</th>\n",
       "      <td>강동구</td>\n",
       "      <td>소계</td>\n",
       "      <td>3,295</td>\n",
       "      <td>4,980</td>\n",
       "    </tr>\n",
       "  </tbody>\n",
       "</table>\n",
       "</div>"
      ],
      "text/plain": [
       "     자치구   동 택시운송업 사업체 수 택시운송업 종사자 수\n",
       "338  관악구  소계       1,286       2,027\n",
       "360  서초구  소계         417         903\n",
       "379  강남구  소계       1,796       2,517\n",
       "402  송파구  소계       2,638       4,850\n",
       "430  강동구  소계       3,295       4,980"
      ]
     },
     "execution_count": 12,
     "metadata": {},
     "output_type": "execute_result"
    }
   ],
   "source": [
    "seoul_business.tail()"
   ]
  },
  {
   "cell_type": "code",
   "execution_count": 13,
   "id": "fd1ab6f4",
   "metadata": {},
   "outputs": [],
   "source": [
    "seoul_business = seoul_business.drop(columns=[\"동\"])"
   ]
  },
  {
   "cell_type": "code",
   "execution_count": 14,
   "id": "39eb59e7",
   "metadata": {
    "id": "39eb59e7"
   },
   "outputs": [],
   "source": [
    "# 해당 데이터프레임을 'df_seoul_business.csv' 파일로 저장하세요.\n",
    "\n",
    "fpath = './df_seoul_business.csv'\n",
    "seoul_business.to_csv(fpath, index=False, encoding='utf-8-sig')"
   ]
  },
  {
   "cell_type": "code",
   "execution_count": 15,
   "id": "6c3fa8fe",
   "metadata": {},
   "outputs": [
    {
     "data": {
      "text/html": [
       "<div>\n",
       "<style scoped>\n",
       "    .dataframe tbody tr th:only-of-type {\n",
       "        vertical-align: middle;\n",
       "    }\n",
       "\n",
       "    .dataframe tbody tr th {\n",
       "        vertical-align: top;\n",
       "    }\n",
       "\n",
       "    .dataframe thead th {\n",
       "        text-align: right;\n",
       "    }\n",
       "</style>\n",
       "<table border=\"1\" class=\"dataframe\">\n",
       "  <thead>\n",
       "    <tr style=\"text-align: right;\">\n",
       "      <th></th>\n",
       "      <th>자치구</th>\n",
       "      <th>택시운송업 사업체 수</th>\n",
       "      <th>택시운송업 종사자 수</th>\n",
       "    </tr>\n",
       "  </thead>\n",
       "  <tbody>\n",
       "    <tr>\n",
       "      <th>0</th>\n",
       "      <td>종로구</td>\n",
       "      <td>215</td>\n",
       "      <td>215</td>\n",
       "    </tr>\n",
       "    <tr>\n",
       "      <th>18</th>\n",
       "      <td>중구</td>\n",
       "      <td>230</td>\n",
       "      <td>235</td>\n",
       "    </tr>\n",
       "    <tr>\n",
       "      <th>34</th>\n",
       "      <td>용산구</td>\n",
       "      <td>416</td>\n",
       "      <td>523</td>\n",
       "    </tr>\n",
       "    <tr>\n",
       "      <th>51</th>\n",
       "      <td>성동구</td>\n",
       "      <td>1,200</td>\n",
       "      <td>2,527</td>\n",
       "    </tr>\n",
       "    <tr>\n",
       "      <th>69</th>\n",
       "      <td>광진구</td>\n",
       "      <td>1,119</td>\n",
       "      <td>1,744</td>\n",
       "    </tr>\n",
       "    <tr>\n",
       "      <th>85</th>\n",
       "      <td>동대문구</td>\n",
       "      <td>1,546</td>\n",
       "      <td>2,093</td>\n",
       "    </tr>\n",
       "    <tr>\n",
       "      <th>100</th>\n",
       "      <td>중랑구</td>\n",
       "      <td>3,634</td>\n",
       "      <td>6,262</td>\n",
       "    </tr>\n",
       "    <tr>\n",
       "      <th>117</th>\n",
       "      <td>성북구</td>\n",
       "      <td>1,835</td>\n",
       "      <td>2,643</td>\n",
       "    </tr>\n",
       "    <tr>\n",
       "      <th>138</th>\n",
       "      <td>강북구</td>\n",
       "      <td>1,713</td>\n",
       "      <td>2,589</td>\n",
       "    </tr>\n",
       "    <tr>\n",
       "      <th>152</th>\n",
       "      <td>도봉구</td>\n",
       "      <td>2,993</td>\n",
       "      <td>5,783</td>\n",
       "    </tr>\n",
       "    <tr>\n",
       "      <th>167</th>\n",
       "      <td>노원구</td>\n",
       "      <td>4,114</td>\n",
       "      <td>6,074</td>\n",
       "    </tr>\n",
       "    <tr>\n",
       "      <th>187</th>\n",
       "      <td>은평구</td>\n",
       "      <td>3,108</td>\n",
       "      <td>4,430</td>\n",
       "    </tr>\n",
       "    <tr>\n",
       "      <th>204</th>\n",
       "      <td>서대문구</td>\n",
       "      <td>1,747</td>\n",
       "      <td>2,677</td>\n",
       "    </tr>\n",
       "    <tr>\n",
       "      <th>219</th>\n",
       "      <td>마포구</td>\n",
       "      <td>1,165</td>\n",
       "      <td>1,838</td>\n",
       "    </tr>\n",
       "    <tr>\n",
       "      <th>236</th>\n",
       "      <td>양천구</td>\n",
       "      <td>2,735</td>\n",
       "      <td>4,942</td>\n",
       "    </tr>\n",
       "    <tr>\n",
       "      <th>255</th>\n",
       "      <td>강서구</td>\n",
       "      <td>3,735</td>\n",
       "      <td>6,922</td>\n",
       "    </tr>\n",
       "    <tr>\n",
       "      <th>276</th>\n",
       "      <td>구로구</td>\n",
       "      <td>2,757</td>\n",
       "      <td>3,817</td>\n",
       "    </tr>\n",
       "    <tr>\n",
       "      <th>292</th>\n",
       "      <td>금천구</td>\n",
       "      <td>1,100</td>\n",
       "      <td>2,598</td>\n",
       "    </tr>\n",
       "    <tr>\n",
       "      <th>303</th>\n",
       "      <td>영등포구</td>\n",
       "      <td>1,349</td>\n",
       "      <td>2,397</td>\n",
       "    </tr>\n",
       "    <tr>\n",
       "      <th>322</th>\n",
       "      <td>동작구</td>\n",
       "      <td>1,033</td>\n",
       "      <td>1,115</td>\n",
       "    </tr>\n",
       "    <tr>\n",
       "      <th>338</th>\n",
       "      <td>관악구</td>\n",
       "      <td>1,286</td>\n",
       "      <td>2,027</td>\n",
       "    </tr>\n",
       "    <tr>\n",
       "      <th>360</th>\n",
       "      <td>서초구</td>\n",
       "      <td>417</td>\n",
       "      <td>903</td>\n",
       "    </tr>\n",
       "    <tr>\n",
       "      <th>379</th>\n",
       "      <td>강남구</td>\n",
       "      <td>1,796</td>\n",
       "      <td>2,517</td>\n",
       "    </tr>\n",
       "    <tr>\n",
       "      <th>402</th>\n",
       "      <td>송파구</td>\n",
       "      <td>2,638</td>\n",
       "      <td>4,850</td>\n",
       "    </tr>\n",
       "    <tr>\n",
       "      <th>430</th>\n",
       "      <td>강동구</td>\n",
       "      <td>3,295</td>\n",
       "      <td>4,980</td>\n",
       "    </tr>\n",
       "  </tbody>\n",
       "</table>\n",
       "</div>"
      ],
      "text/plain": [
       "      자치구 택시운송업 사업체 수 택시운송업 종사자 수\n",
       "0     종로구         215         215\n",
       "18     중구         230         235\n",
       "34    용산구         416         523\n",
       "51    성동구       1,200       2,527\n",
       "69    광진구       1,119       1,744\n",
       "85   동대문구       1,546       2,093\n",
       "100   중랑구       3,634       6,262\n",
       "117   성북구       1,835       2,643\n",
       "138   강북구       1,713       2,589\n",
       "152   도봉구       2,993       5,783\n",
       "167   노원구       4,114       6,074\n",
       "187   은평구       3,108       4,430\n",
       "204  서대문구       1,747       2,677\n",
       "219   마포구       1,165       1,838\n",
       "236   양천구       2,735       4,942\n",
       "255   강서구       3,735       6,922\n",
       "276   구로구       2,757       3,817\n",
       "292   금천구       1,100       2,598\n",
       "303  영등포구       1,349       2,397\n",
       "322   동작구       1,033       1,115\n",
       "338   관악구       1,286       2,027\n",
       "360   서초구         417         903\n",
       "379   강남구       1,796       2,517\n",
       "402   송파구       2,638       4,850\n",
       "430   강동구       3,295       4,980"
      ]
     },
     "execution_count": 15,
     "metadata": {},
     "output_type": "execute_result"
    }
   ],
   "source": [
    "seoul_business"
   ]
  },
  {
   "cell_type": "markdown",
   "id": "602b8bae",
   "metadata": {
    "id": "602b8bae"
   },
   "source": [
    "---"
   ]
  },
  {
   "cell_type": "markdown",
   "id": "southeast-integration",
   "metadata": {
    "id": "southeast-integration"
   },
   "source": [
    "# 3.데이터 분석하기\n",
    "+ KeyPoint : 데이터의 형태를 살펴보고 다양한 분석기법을 통해 모델링에 적합하도록 정제요소를 선별할 수 있다.\n",
    "  * 데이터들의 패턴 탐색\n",
    "  * 변수들간의 관계 파악"
   ]
  },
  {
   "cell_type": "code",
   "execution_count": 16,
   "id": "194ae01d",
   "metadata": {
    "id": "194ae01d"
   },
   "outputs": [],
   "source": [
    "# 시각화 한글폰트 설정\n",
    "import seaborn as sns\n",
    "import matplotlib.pyplot as plt\n",
    "\n",
    "plt.rc('font', family='nanum')\n",
    "sns.set(font=\"NanumGothicCoding\",#\"NanumGothicCoding\", \n",
    "        rc={\"axes.unicode_minus\":False}, # 마이너스 부호 깨짐 현상 해결\n",
    "        style='darkgrid')"
   ]
  },
  {
   "cell_type": "markdown",
   "id": "material-complex",
   "metadata": {
    "id": "material-complex"
   },
   "source": [
    "#### [실습문제4] 데이터 분포 알아보기\n",
    "* 다양한 변수를 기준으로 그래프를 그려보고 인사이트를 도출해보세요."
   ]
  },
  {
   "cell_type": "code",
   "execution_count": 17,
   "id": "2a610ade",
   "metadata": {
    "id": "2a610ade",
    "scrolled": false
   },
   "outputs": [
    {
     "data": {
      "text/plain": [
       "[<matplotlib.lines.Line2D at 0x2020232a470>]"
      ]
     },
     "execution_count": 17,
     "metadata": {},
     "output_type": "execute_result"
    },
    {
     "data": {
      "image/png": "[encoded data removed]",
      "text/plain": [
       "<Figure size 1440x288 with 1 Axes>"
      ]
     },
     "metadata": {
      "needs_background": "light"
     },
     "output_type": "display_data"
    }
   ],
   "source": [
    "# 아래에 실습코드를 작성하고 결과를 확인합니다.\n",
    "from matplotlib import font_manager, rc\n",
    "font_path = \"C:/Windows/Fonts/NGULIM.TTF\"\n",
    "font = font_manager.FontProperties(fname=font_path).get_name()\n",
    "rc('font', family=font)\n",
    "\n",
    "plt.figure(figsize=(20,4))\n",
    "plt.plot('자치구', '택시운송업 사업체 수', data = seoul_business)"
   ]
  },
  {
   "cell_type": "code",
   "execution_count": 18,
   "id": "86892a60",
   "metadata": {
    "id": "86892a60"
   },
   "outputs": [],
   "source": [
    "# 위 차트를 통해 알게된 사실을 정리해봅시다.\n",
    "# 1. \n",
    "# 2.\n",
    "# 3."
   ]
  },
  {
   "cell_type": "markdown",
   "id": "ca567b34",
   "metadata": {
    "id": "ca567b34"
   },
   "source": [
    "---"
   ]
  }
 ],
 "metadata": {
  "colab": {
   "collapsed_sections": [],
   "provenance": []
  },
  "kernelspec": {
   "display_name": "Python 3 (ipykernel)",
   "language": "python",
   "name": "python3"
  },
  "language_info": {
   "codemirror_mode": {
    "name": "ipython",
    "version": 3
   },
   "file_extension": ".py",
   "mimetype": "text/x-python",
   "name": "python",
   "nbconvert_exporter": "python",
   "pygments_lexer": "ipython3",
   "version": "3.7.0"
  },
  "vscode": {
   "interpreter": {
    "hash": "f08154012ddadd8e950e6e9e035c7a7b32c136e7647e9b7c77e02eb723a8bedb"
   }
  }
 },
 "nbformat": 4,
 "nbformat_minor": 5
}
